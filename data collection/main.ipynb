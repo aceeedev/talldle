{
 "cells": [
  {
   "cell_type": "markdown",
   "metadata": {},
   "source": [
    "Imports and setup"
   ]
  },
  {
   "cell_type": "code",
   "execution_count": 17,
   "metadata": {},
   "outputs": [
    {
     "name": "stdout",
     "output_type": "stream",
     "text": [
      "The autoreload extension is already loaded. To reload it, use:\n",
      "  %reload_ext autoreload\n"
     ]
    }
   ],
   "source": [
    "%load_ext autoreload\n",
    "%autoreload 2\n",
    "\n",
    "from typing import Any\n",
    "from enum import Enum\n",
    "import csv\n",
    "\n",
    "from thefuzz import process, fuzz\n",
    "\n",
    "import utils"
   ]
  },
  {
   "cell_type": "markdown",
   "metadata": {},
   "source": [
    "See what entries in Notion can updated"
   ]
  },
  {
   "cell_type": "code",
   "execution_count": 18,
   "metadata": {},
   "outputs": [],
   "source": [
    "celeb_heights_filename = r'.\\data\\celeb-heights-2025-03-13.csv'\n",
    "\n",
    "\n",
    "class CelebHeightsEntry:\n",
    "    def __init__(self, lst):\n",
    "        self.name: str = lst[0]\n",
    "        self.height: int = int(lst[1]) if lst[1] else None\n",
    "        self.image_url = lst[2]\n",
    "        self.url = lst[3]\n",
    "\n",
    "class Outdated(Enum):\n",
    "    HEIGHT = 'height'\n",
    "    IMAGE = 'image'\n",
    "\n",
    "class OutdatedWrapper:\n",
    "    def __init__(self, outdated, current_val, should_be_val):\n",
    "        self.outdated: Outdated = outdated\n",
    "        self.current_val: Any = current_val\n",
    "        self.should_be_val: Any = should_be_val\n",
    "\n",
    "class UpdateThis:\n",
    "    def __init__(self, entry, celeb_heights_entry, percent_match):\n",
    "        self.notion_entry: utils.Entry = entry\n",
    "        self.celeb_heights_entry: CelebHeightsEntry = celeb_heights_entry\n",
    "        self.percent_match = percent_match\n",
    "        self.updates_needed: list[OutdatedWrapper] = []\n",
    "\n",
    "    def add_update_needed(self, update):\n",
    "        self.updates_needed.append(update)\n",
    "\n",
    "    def needs_update(self) -> bool:\n",
    "        return len(self.updates_needed) > 0\n",
    "\n",
    "\n",
    "# import all celeb heights entries\n",
    "celeb_heights_entries_map: dict[str, CelebHeightsEntry] = dict()\n",
    "with open(celeb_heights_filename, mode ='r', encoding='utf-8')as file:\n",
    "  csv_file = csv.reader(file)\n",
    "\n",
    "  first_line = True\n",
    "  for line in csv_file:\n",
    "        if first_line:\n",
    "            first_line = False\n",
    "            continue\n",
    "\n",
    "        celeb_heights_entry = CelebHeightsEntry(line)\n",
    "        celeb_heights_entries_map[celeb_heights_entry.name] = celeb_heights_entry\n",
    "\n",
    "\n",
    "# check all notion entries\n",
    "updates: list[UpdateThis] = []\n",
    "\n",
    "current_notion_entries: list[utils.Entry] = utils.get_notion_entries()\n",
    "for entry in current_notion_entries:\n",
    "    # see if notion entry is on celeb heights\n",
    "    match = process.extractOne(entry.name, celeb_heights_entries_map.keys(), scorer=fuzz.token_sort_ratio, score_cutoff=90)\n",
    "    \n",
    "    if match != None:\n",
    "        celeb_name, percent_match = match\n",
    "        celeb_heights_entry = celeb_heights_entries_map[celeb_name]\n",
    "\n",
    "        update_entry: UpdateThis = UpdateThis(entry, celeb_heights_entry, percent_match)\n",
    "\n",
    "        # see if anything (height or image url) needs to be updated\n",
    "        if entry.height == None or entry.height != celeb_heights_entry.height:\n",
    "            update_entry.add_update_needed(OutdatedWrapper(\n",
    "                outdated = Outdated.HEIGHT,\n",
    "                current_val = entry.height,\n",
    "                should_be_val = celeb_heights_entry.height\n",
    "                ))\n",
    "\n",
    "        if entry.image_url == None or entry.image_url != celeb_heights_entry.image_url:\n",
    "            update_entry.add_update_needed(OutdatedWrapper(\n",
    "                outdated = Outdated.IMAGE,\n",
    "                current_val = entry.image_url,\n",
    "                should_be_val = celeb_heights_entry.image_url\n",
    "                ))\n",
    "\n",
    "        if update_entry.needs_update():\n",
    "            updates.append(update_entry)"
   ]
  },
  {
   "cell_type": "code",
   "execution_count": 19,
   "metadata": {},
   "outputs": [
    {
     "name": "stdout",
     "output_type": "stream",
     "text": [
      "1 updates needed!\n",
      "Dev --- (found from Dev, 100% match, https://www.celebheights.com/s/-Dev-48461.html)\n",
      "Outdated.HEIGHT\n",
      "currently: \n",
      "171\n",
      "should be: \n",
      "165\n",
      "---\n",
      "Outdated.IMAGE\n",
      "currently: \n",
      "None\n",
      "should be: \n",
      "https://www.celebheights.com/tr/d/dev.jpg\n",
      "---\n",
      "\n"
     ]
    }
   ],
   "source": [
    "# display updates!\n",
    "print(f\"{len(updates)} updates needed!\")\n",
    "\n",
    "for update in updates:\n",
    "    print(f\"{update.notion_entry.name} --- (found from {update.celeb_heights_entry.name}, {update.percent_match}% match, {update.celeb_heights_entry.url})\")\n",
    "\n",
    "    for outdated in update.updates_needed:\n",
    "        print(outdated.outdated)\n",
    "        print(f\"currently: \\n{outdated.current_val}\")\n",
    "        print(f\"should be: \\n{outdated.should_be_val}\")\n",
    "        print('---')\n",
    "\n",
    "    print()"
   ]
  }
 ],
 "metadata": {
  "kernelspec": {
   "display_name": ".venv",
   "language": "python",
   "name": "python3"
  },
  "language_info": {
   "codemirror_mode": {
    "name": "ipython",
    "version": 3
   },
   "file_extension": ".py",
   "mimetype": "text/x-python",
   "name": "python",
   "nbconvert_exporter": "python",
   "pygments_lexer": "ipython3",
   "version": "3.11.9"
  }
 },
 "nbformat": 4,
 "nbformat_minor": 2
}
