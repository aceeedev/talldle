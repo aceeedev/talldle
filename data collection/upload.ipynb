{
 "cells": [
  {
   "cell_type": "markdown",
   "metadata": {},
   "source": [
    "# Upload to Firebase!"
   ]
  },
  {
   "cell_type": "markdown",
   "metadata": {},
   "source": [
    "Imports and setup"
   ]
  },
  {
   "cell_type": "code",
   "execution_count": 1,
   "metadata": {},
   "outputs": [],
   "source": [
    "from time import sleep\n",
    "\n",
    "import csv\n",
    "\n",
    "import firebase_admin\n",
    "from firebase_admin import credentials\n",
    "from firebase_admin import firestore\n",
    "\n",
    "cred = credentials.Certificate('./talldle-game-firebase-adminsdk-fbsvc-7bf7c4b8f3.json')\n",
    "\n",
    "app = firebase_admin.initialize_app(cred)\n",
    "\n",
    "db = firestore.client()\n",
    "\n",
    "delete_collection_batch_size = 500"
   ]
  },
  {
   "cell_type": "code",
   "execution_count": 2,
   "metadata": {},
   "outputs": [],
   "source": [
    "data_filename = './data/final_data.csv'\n",
    "order_filename = './data/celeb-ordering-2025-04-08.csv'"
   ]
  },
  {
   "cell_type": "markdown",
   "metadata": {},
   "source": [
    "Helpful functions"
   ]
  },
  {
   "cell_type": "code",
   "execution_count": null,
   "metadata": {},
   "outputs": [],
   "source": [
    "# from a snippet found on Firebase docs, https://firebase.google.com/docs/firestore/manage-data/delete-data#collections\n",
    "def delete_collection(coll_ref, batch_size):\n",
    "    if batch_size == 0:\n",
    "        return\n",
    "\n",
    "    docs = coll_ref.list_documents(page_size=batch_size)\n",
    "    deleted = 0\n",
    "\n",
    "    for doc in docs:\n",
    "        #print(f\"Deleting doc {doc.id} => {doc.get().to_dict()}\")\n",
    "        doc.delete()\n",
    "        deleted = deleted + 1\n",
    "\n",
    "    if deleted >= batch_size:\n",
    "        return delete_collection(coll_ref, batch_size)"
   ]
  },
  {
   "cell_type": "markdown",
   "metadata": {},
   "source": [
    "Celebrity data\n",
    "\n",
    "Remove all the old data and upload all the new data"
   ]
  },
  {
   "cell_type": "code",
   "execution_count": null,
   "metadata": {},
   "outputs": [
    {
     "name": "stdout",
     "output_type": "stream",
     "text": [
      "started deleting\n",
      "finished deleting\n",
      "started uploading\n",
      "finished uploading\n"
     ]
    }
   ],
   "source": [
    "collection_ref = db.collection('data')\n",
    "\n",
    "print(\"started deleting\")\n",
    "delete_collection(collection_ref, delete_collection_batch_size)\n",
    "print(\"finished deleting\")\n",
    "\n",
    "sleep(10)\n",
    "\n",
    "print(\"started uploading\")\n",
    "skip_first_row = True\n",
    "with open(data_filename, 'r') as file:\n",
    "    add_batch = db.batch()\n",
    "\n",
    "    csv_reader = csv.DictReader(file)\n",
    "    for row in csv_reader:\n",
    "        # convert keys to be lowercase\n",
    "        row =  {k.lower(): v for k, v in row.items()}\n",
    "        \n",
    "        # convert height to be a float\n",
    "        row['height'] = float(row['height'])\n",
    "        \n",
    "        add_batch.set(collection_ref.document(row['id']), row, merge=False)\n",
    "\n",
    "add_batch.commit()\n",
    "print(\"finished uploading\")"
   ]
  },
  {
   "cell_type": "markdown",
   "metadata": {},
   "source": [
    "Order data\n",
    "\n",
    "Remove all the old data and upload all the new data"
   ]
  },
  {
   "cell_type": "code",
   "execution_count": null,
   "metadata": {},
   "outputs": [
    {
     "name": "stdout",
     "output_type": "stream",
     "text": [
      "started deleting\n",
      "finished deleting\n",
      "started uploading\n",
      "finished uploading\n"
     ]
    }
   ],
   "source": [
    "collection_ref = db.collection('order')\n",
    "\n",
    "print(\"started deleting\")\n",
    "delete_collection(collection_ref, delete_collection_batch_size)\n",
    "print(\"finished deleting\")\n",
    "\n",
    "sleep(10)\n",
    "\n",
    "print(\"started uploading\")\n",
    "with open(order_filename, 'r') as file:\n",
    "    add_batch = db.batch()\n",
    "\n",
    "    day_index = 0\n",
    "\n",
    "    csv_reader = csv.reader(file)\n",
    "    for row in csv_reader:    \n",
    "        add_batch.set(collection_ref.document(str(day_index)), {'data': row}, merge=False)\n",
    "\n",
    "        day_index += 1\n",
    "\n",
    "add_batch.commit()\n",
    "print(\"finished uploading\")"
   ]
  }
 ],
 "metadata": {
  "kernelspec": {
   "display_name": ".venv",
   "language": "python",
   "name": "python3"
  },
  "language_info": {
   "codemirror_mode": {
    "name": "ipython",
    "version": 3
   },
   "file_extension": ".py",
   "mimetype": "text/x-python",
   "name": "python",
   "nbconvert_exporter": "python",
   "pygments_lexer": "ipython3",
   "version": "3.11.9"
  }
 },
 "nbformat": 4,
 "nbformat_minor": 2
}
