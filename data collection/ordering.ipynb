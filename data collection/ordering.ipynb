{
 "cells": [
  {
   "cell_type": "markdown",
   "id": "de7a53af",
   "metadata": {},
   "source": [
    "Imports and setup"
   ]
  },
  {
   "cell_type": "code",
   "execution_count": 60,
   "id": "eb61dfbe",
   "metadata": {},
   "outputs": [
    {
     "name": "stdout",
     "output_type": "stream",
     "text": [
      "The autoreload extension is already loaded. To reload it, use:\n",
      "  %reload_ext autoreload\n"
     ]
    }
   ],
   "source": [
    "%load_ext autoreload\n",
    "%autoreload 2\n",
    "\n",
    "import warnings\n",
    "import csv\n",
    "from datetime import date\n",
    "\n",
    "import pandas as pd\n",
    "import numpy as np\n",
    "\n",
    "warnings.filterwarnings(\"ignore\", category=DeprecationWarning)"
   ]
  },
  {
   "cell_type": "code",
   "execution_count": 61,
   "id": "e6607005",
   "metadata": {},
   "outputs": [],
   "source": [
    "celeb_data_filename = r'.\\data\\final_data.csv'\n",
    "\n",
    "# number of days to generate\n",
    "N = 800"
   ]
  },
  {
   "cell_type": "markdown",
   "id": "1992013f",
   "metadata": {},
   "source": [
    "Sample and save to csv!"
   ]
  },
  {
   "cell_type": "code",
   "execution_count": 62,
   "id": "66747643",
   "metadata": {},
   "outputs": [],
   "source": [
    "df = pd.read_csv(celeb_data_filename)\n",
    "\n",
    "celeb_order = []\n",
    "\n",
    "# calculate weights based off of frequency of heights\n",
    "height_counts = df['Height'].value_counts()\n",
    "weights = height_counts / height_counts.sum()\n",
    "\n",
    "unique_heights = height_counts.index\n",
    "\n",
    "for i in range(N):\n",
    "    # select 7 heights to select from\n",
    "    sampled_heights = unique_heights.to_series().sample(n = 7, weights = weights, random_state = i).tolist()\n",
    "\n",
    "    sampled_celebs = []\n",
    "    for ht in sampled_heights:\n",
    "        group = df[df['Height'] == ht]\n",
    "        \n",
    "        # sample 1 person per height selected\n",
    "        sampled_row = group.sample(n = 1, random_state = i)\n",
    "        sampled_celebs.append(list(sampled_row['ID'])[0])\n",
    "\n",
    "    celeb_order.append(sampled_celebs)\n",
    "\n",
    "# same to csv!\n",
    "with open(f\"data/celeb-ordering-{date.today()}.csv\", 'w', newline='', encoding='utf-8') as csvfile:\n",
    "    writer = csv.writer(csvfile, delimiter=',')\n",
    "     \n",
    "    writer.writerows(celeb_order)"
   ]
  }
 ],
 "metadata": {
  "kernelspec": {
   "display_name": ".venv",
   "language": "python",
   "name": "python3"
  },
  "language_info": {
   "codemirror_mode": {
    "name": "ipython",
    "version": 3
   },
   "file_extension": ".py",
   "mimetype": "text/x-python",
   "name": "python",
   "nbconvert_exporter": "python",
   "pygments_lexer": "ipython3",
   "version": "3.11.9"
  }
 },
 "nbformat": 4,
 "nbformat_minor": 5
}
