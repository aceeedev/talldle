{
 "cells": [
  {
   "cell_type": "markdown",
   "id": "de7a53af",
   "metadata": {},
   "source": [
    "Imports and setup"
   ]
  },
  {
   "cell_type": "code",
   "execution_count": null,
   "id": "eb61dfbe",
   "metadata": {},
   "outputs": [],
   "source": [
    "%load_ext autoreload\n",
    "%autoreload 2\n",
    "\n",
    "import warnings\n",
    "import csv\n",
    "from datetime import date\n",
    "\n",
    "import pandas as pd\n",
    "import numpy as np\n",
    "\n",
    "warnings.filterwarnings(\"ignore\", category=DeprecationWarning) "
   ]
  },
  {
   "cell_type": "code",
   "execution_count": null,
   "id": "e6607005",
   "metadata": {},
   "outputs": [],
   "source": [
    "celeb_data_filename = r'.\\data\\notion-data-2025-03-16.csv'\n",
    "\n",
    "# number of days to generate\n",
    "N = 3000"
   ]
  },
  {
   "cell_type": "markdown",
   "id": "1992013f",
   "metadata": {},
   "source": [
    "Sample and save to csv!"
   ]
  },
  {
   "cell_type": "code",
   "execution_count": null,
   "id": "66747643",
   "metadata": {},
   "outputs": [],
   "source": [
    "df = pd.read_csv(celeb_data_filename)\n",
    "\n",
    "# sample the celebs list N times!\n",
    "celeb_order = []\n",
    "for i in range(N):\n",
    "    # group all celebs by height and select one per group, makes sure no dupe heights per day\n",
    "    unique_heights = df.groupby('Height', group_keys=False).apply(lambda x: x.sample(1))\n",
    "\n",
    "    sample = unique_heights.sample(n=7)\n",
    "\n",
    "    celeb_ids = list(sample['ID'])\n",
    "    celeb_order.append(celeb_ids)\n",
    "\n",
    "# same to csv!\n",
    "with open(f\"data/celeb-ordering-{date.today()}.csv\", 'w', newline='', encoding='utf-8') as csvfile:\n",
    "    writer = csv.writer(csvfile, delimiter=',')\n",
    "     \n",
    "    writer.writerows(celeb_order)"
   ]
  }
 ],
 "metadata": {
  "language_info": {
   "name": "python"
  }
 },
 "nbformat": 4,
 "nbformat_minor": 5
}
