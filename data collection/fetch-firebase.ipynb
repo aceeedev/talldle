{
 "cells": [
  {
   "cell_type": "markdown",
   "id": "43363837",
   "metadata": {},
   "source": [
    "# Download Order From Firebase!"
   ]
  },
  {
   "cell_type": "markdown",
   "id": "0303735d",
   "metadata": {},
   "source": [
    "Imports and Setup"
   ]
  },
  {
   "cell_type": "code",
   "execution_count": 4,
   "id": "2b3412bf",
   "metadata": {},
   "outputs": [
    {
     "ename": "ValueError",
     "evalue": "The default Firebase app already exists. This means you called initialize_app() more than once without providing an app name as the second argument. In most cases you only need to call initialize_app() once. But if you do want to initialize multiple apps, pass a second argument to initialize_app() to give each app a unique name.",
     "output_type": "error",
     "traceback": [
      "\u001b[31m---------------------------------------------------------------------------\u001b[39m",
      "\u001b[31mValueError\u001b[39m                                Traceback (most recent call last)",
      "\u001b[36mCell\u001b[39m\u001b[36m \u001b[39m\u001b[32mIn[4]\u001b[39m\u001b[32m, line 10\u001b[39m\n\u001b[32m      6\u001b[39m \u001b[38;5;28;01mfrom\u001b[39;00m\u001b[38;5;250m \u001b[39m\u001b[34;01mfirebase_admin\u001b[39;00m\u001b[38;5;250m \u001b[39m\u001b[38;5;28;01mimport\u001b[39;00m firestore\n\u001b[32m      8\u001b[39m cred = credentials.Certificate(\u001b[33m'\u001b[39m\u001b[33m./talldle-game-firebase-adminsdk-fbsvc-7bf7c4b8f3.json\u001b[39m\u001b[33m'\u001b[39m)\n\u001b[32m---> \u001b[39m\u001b[32m10\u001b[39m app = \u001b[43mfirebase_admin\u001b[49m\u001b[43m.\u001b[49m\u001b[43minitialize_app\u001b[49m\u001b[43m(\u001b[49m\u001b[43mcred\u001b[49m\u001b[43m)\u001b[49m\n\u001b[32m     12\u001b[39m db = firestore.client()\n\u001b[32m     14\u001b[39m N_days = \u001b[32m800\u001b[39m\n",
      "\u001b[36mFile \u001b[39m\u001b[32mc:\\Users\\cyber\\OneDrive\\Documents\\GitHub\\talldle\\data collection\\.venv\\Lib\\site-packages\\firebase_admin\\__init__.py:74\u001b[39m, in \u001b[36minitialize_app\u001b[39m\u001b[34m(credential, options, name)\u001b[39m\n\u001b[32m     71\u001b[39m         \u001b[38;5;28;01mreturn\u001b[39;00m app\n\u001b[32m     73\u001b[39m \u001b[38;5;28;01mif\u001b[39;00m name == _DEFAULT_APP_NAME:\n\u001b[32m---> \u001b[39m\u001b[32m74\u001b[39m     \u001b[38;5;28;01mraise\u001b[39;00m \u001b[38;5;167;01mValueError\u001b[39;00m((\n\u001b[32m     75\u001b[39m         \u001b[33m'\u001b[39m\u001b[33mThe default Firebase app already exists. This means you called \u001b[39m\u001b[33m'\u001b[39m\n\u001b[32m     76\u001b[39m         \u001b[33m'\u001b[39m\u001b[33minitialize_app() more than once without providing an app name as \u001b[39m\u001b[33m'\u001b[39m\n\u001b[32m     77\u001b[39m         \u001b[33m'\u001b[39m\u001b[33mthe second argument. In most cases you only need to call \u001b[39m\u001b[33m'\u001b[39m\n\u001b[32m     78\u001b[39m         \u001b[33m'\u001b[39m\u001b[33minitialize_app() once. But if you do want to initialize multiple \u001b[39m\u001b[33m'\u001b[39m\n\u001b[32m     79\u001b[39m         \u001b[33m'\u001b[39m\u001b[33mapps, pass a second argument to initialize_app() to give each app \u001b[39m\u001b[33m'\u001b[39m\n\u001b[32m     80\u001b[39m         \u001b[33m'\u001b[39m\u001b[33ma unique name.\u001b[39m\u001b[33m'\u001b[39m))\n\u001b[32m     82\u001b[39m \u001b[38;5;28;01mraise\u001b[39;00m \u001b[38;5;167;01mValueError\u001b[39;00m((\n\u001b[32m     83\u001b[39m     \u001b[33m'\u001b[39m\u001b[33mFirebase app named \u001b[39m\u001b[33m\"\u001b[39m\u001b[38;5;132;01m{0}\u001b[39;00m\u001b[33m\"\u001b[39m\u001b[33m already exists. This means you called \u001b[39m\u001b[33m'\u001b[39m\n\u001b[32m     84\u001b[39m     \u001b[33m'\u001b[39m\u001b[33minitialize_app() more than once with the same app name as the \u001b[39m\u001b[33m'\u001b[39m\n\u001b[32m     85\u001b[39m     \u001b[33m'\u001b[39m\u001b[33msecond argument. Make sure you provide a unique name every time \u001b[39m\u001b[33m'\u001b[39m\n\u001b[32m     86\u001b[39m     \u001b[33m'\u001b[39m\u001b[33myou call initialize_app().\u001b[39m\u001b[33m'\u001b[39m).format(name))\n",
      "\u001b[31mValueError\u001b[39m: The default Firebase app already exists. This means you called initialize_app() more than once without providing an app name as the second argument. In most cases you only need to call initialize_app() once. But if you do want to initialize multiple apps, pass a second argument to initialize_app() to give each app a unique name."
     ]
    }
   ],
   "source": [
    "import csv\n",
    "from datetime import date\n",
    "\n",
    "import firebase_admin\n",
    "from firebase_admin import credentials\n",
    "from firebase_admin import firestore\n",
    "\n",
    "cred = credentials.Certificate('./talldle-game-firebase-adminsdk-fbsvc-7bf7c4b8f3.json')\n",
    "\n",
    "app = firebase_admin.initialize_app(cred)\n",
    "\n",
    "db = firestore.client()\n",
    "\n",
    "N_days = 800"
   ]
  },
  {
   "cell_type": "markdown",
   "id": "49f5fa70",
   "metadata": {},
   "source": [
    "Fetch current ordering on Firebase and save to csv"
   ]
  },
  {
   "cell_type": "code",
   "execution_count": 2,
   "id": "fb31add3",
   "metadata": {},
   "outputs": [],
   "source": [
    "current_ordering: list[list[str]] = [None] * N_days\n",
    "\n",
    "\n",
    "collection_ref = db.collection('order')\n",
    "docs = collection_ref.stream()\n",
    "\n",
    "for doc in docs:\n",
    "    day_number: int = int(doc.id)\n",
    "    day_ordering: list[str] = doc.to_dict()['data']\n",
    "    \n",
    "    current_ordering[day_number] = day_ordering\n",
    "\n",
    "for i in range(len(current_ordering)):\n",
    "    order = current_ordering[i]\n",
    "\n",
    "    if order == None:\n",
    "        print(f\"ERROR! id {i} is None!\")"
   ]
  },
  {
   "cell_type": "markdown",
   "id": "747f4f34",
   "metadata": {},
   "source": [
    "Save ordering to csv to be compared with"
   ]
  },
  {
   "cell_type": "code",
   "execution_count": 5,
   "id": "11b031f9",
   "metadata": {},
   "outputs": [],
   "source": [
    "with open(f\"data/current-firebase-ordering-{date.today()}.csv\", 'w', newline='', encoding='utf-8') as csvfile:\n",
    "    writer = csv.writer(csvfile, delimiter=',')\n",
    "     \n",
    "    writer.writerows(current_ordering)"
   ]
  }
 ],
 "metadata": {
  "kernelspec": {
   "display_name": ".venv",
   "language": "python",
   "name": "python3"
  },
  "language_info": {
   "codemirror_mode": {
    "name": "ipython",
    "version": 3
   },
   "file_extension": ".py",
   "mimetype": "text/x-python",
   "name": "python",
   "nbconvert_exporter": "python",
   "pygments_lexer": "ipython3",
   "version": "3.11.9"
  }
 },
 "nbformat": 4,
 "nbformat_minor": 5
}
