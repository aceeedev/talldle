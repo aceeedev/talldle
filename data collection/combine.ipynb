{
 "cells": [
  {
   "cell_type": "code",
   "execution_count": 6,
   "id": "cb31dac7",
   "metadata": {},
   "outputs": [],
   "source": [
    "import pandas as pd\n",
    "import numpy as np"
   ]
  },
  {
   "cell_type": "code",
   "execution_count": 7,
   "id": "0850a843",
   "metadata": {},
   "outputs": [],
   "source": [
    "celeb_heights_csv_name = 'data/celeb-heights-2025-03-13.csv'\n",
    "notion_data_csv_name = 'data/notion-data-2025-04-08.csv'"
   ]
  },
  {
   "cell_type": "code",
   "execution_count": 8,
   "id": "82372880",
   "metadata": {},
   "outputs": [],
   "source": [
    "celeb_heights = pd.read_csv(celeb_heights_csv_name)\n",
    "notion_data = pd.read_csv(notion_data_csv_name)"
   ]
  },
  {
   "cell_type": "code",
   "execution_count": 9,
   "id": "8f448736",
   "metadata": {},
   "outputs": [],
   "source": [
    "merged = pd.merge(celeb_heights[['Name', 'Height', 'Image', 'URL']], notion_data[['Name', 'Height', 'ID', 'Category']], on='Name', how='outer', indicator=True)\n",
    "# only combines if height not specified in notion data\n",
    "combined = merged[(merged['_merge'] == 'both') & (merged['Height_y'].isna())].drop(columns=['Height_y']).rename(columns={'Height_x': 'Height'})\n",
    "# include people with heights specified in notion data\n",
    "unmatched = merged[(merged['_merge'] == 'right_only') | (merged['Height_y'].notna())].drop(columns=['Height_y']).rename(columns={'Height_x': 'Height'})"
   ]
  },
  {
   "cell_type": "code",
   "execution_count": 10,
   "id": "877a8bdb",
   "metadata": {},
   "outputs": [],
   "source": [
    "new_order = ['ID', 'Name', 'Height', 'Image', 'Category', 'Source']"
   ]
  },
  {
   "cell_type": "code",
   "execution_count": 11,
   "id": "8370b9ab",
   "metadata": {},
   "outputs": [
    {
     "data": {
      "application/vnd.microsoft.datawrangler.viewer.v0+json": {
       "columns": [
        {
         "name": "index",
         "rawType": "int64",
         "type": "integer"
        },
        {
         "name": "ID",
         "rawType": "float64",
         "type": "float"
        },
        {
         "name": "Name",
         "rawType": "object",
         "type": "string"
        },
        {
         "name": "Height",
         "rawType": "float64",
         "type": "float"
        },
        {
         "name": "Image",
         "rawType": "object",
         "type": "string"
        },
        {
         "name": "Category",
         "rawType": "object",
         "type": "string"
        },
        {
         "name": "Source",
         "rawType": "object",
         "type": "unknown"
        }
       ],
       "conversionMethod": "pd.DataFrame",
       "ref": "d4caffa5-102b-4b4f-b1a5-21163a8e4fad",
       "rows": [
        [
         "22",
         "726.0",
         "Aaron Paul",
         "172.0",
         "https://www.celebheights.com/tr/a/aaronpaul.jpg",
         "[Acting]",
         "['Celeb Heights']"
        ],
        [
         "75",
         "340.0",
         "Adam Driver",
         "189.0",
         "https://www.celebheights.com/tr/a/adamdriver.jpg",
         "[Acting]",
         "['Celeb Heights']"
        ],
        [
         "97",
         "221.0",
         "Adam Scott",
         "175.0",
         "https://www.celebheights.com/tr/a/adamscott.jpg",
         "[Acting]",
         "['Celeb Heights']"
        ],
        [
         "119",
         "282.0",
         "Adolf Hitler",
         "174.0",
         "https://www.celebheights.com/tr/a/adolfhitler.jpg",
         "[Politics,Historical]",
         "['Celeb Heights']"
        ],
        [
         "201",
         "438.0",
         "Al Gore",
         "185.0",
         "https://www.celebheights.com/tr/a/algore.jpg",
         "[Politics]",
         "['Celeb Heights']"
        ],
        [
         "206",
         "561.0",
         "Al Pacino",
         "168.0",
         "https://www.celebheights.com/tr/a/alpacino.jpg",
         "[Acting]",
         "['Celeb Heights']"
        ],
        [
         "286",
         "433.0",
         "Alex E Jones",
         "176.0",
         "https://www.celebheights.com/tr/a/alexejones.jpg",
         "[Politics]",
         "['Celeb Heights']"
        ],
        [
         "375",
         "434.0",
         "Alexandria Ocasio-Cortez",
         "163.0",
         "https://www.celebheights.com/tr/a/alexandriaocasiocortez.jpg",
         "[Politics]",
         "['Celeb Heights']"
        ],
        [
         "405",
         "559.0",
         "Alfred Hitchcock",
         "170.0",
         "https://www.celebheights.com/tr/a/alfredhitchcock.jpg",
         "[Filmmakers]",
         "['Celeb Heights']"
        ],
        [
         "441",
         "236.0",
         "Alicia Keys",
         "166.0",
         "https://www.celebheights.com/tr/a/aliciakeys.jpg",
         "[Music]",
         "['Celeb Heights']"
        ],
        [
         "626",
         "419.0",
         "Amy Adams",
         "161.0",
         "https://www.celebheights.com/tr/a/amyadams.jpg",
         "[Acting]",
         "['Celeb Heights']"
        ],
        [
         "751",
         "210.0",
         "Andrew Garfield",
         "179.0",
         "https://www.celebheights.com/tr/a/andrewgarfield.jpg",
         "[Acting]",
         "['Celeb Heights']"
        ],
        [
         "774",
         "660.0",
         "Andrew Tate",
         "188.0",
         "https://www.celebheights.com/tr/a/andrewtate.jpg",
         "[Influencers]",
         "['Celeb Heights']"
        ],
        [
         "825",
         "295.0",
         "Angelina Jolie",
         "169.0",
         "https://www.celebheights.com/tr/a/angelinajolie.jpg",
         "[Acting]",
         "['Celeb Heights']"
        ],
        [
         "943",
         "471.0",
         "Anne Hathaway",
         "170.0",
         "https://www.celebheights.com/tr/a/annehathaway.jpg",
         "[Acting]",
         "['Celeb Heights']"
        ],
        [
         "1006",
         "460.0",
         "Anthony Hopkins",
         "175.0",
         "https://www.celebheights.com/tr/a/anthonyhopkins.jpg",
         "[Acting]",
         "['Celeb Heights']"
        ],
        [
         "1015",
         "590.0",
         "Anthony Padilla",
         "180.0",
         "https://www.celebheights.com/tr/a/anthonypadilla.jpg",
         "[Influencers]",
         "['Celeb Heights']"
        ],
        [
         "1241",
         "243.0",
         "Avril Lavigne",
         "155.0",
         "https://www.celebheights.com/tr/a/avrillavigne.jpg",
         "[Music]",
         "['Celeb Heights']"
        ],
        [
         "1242",
         "572.0",
         "Awkwafina",
         "155.0",
         "https://www.celebheights.com/tr/a/awkwafina.jpg",
         "[Acting,Music]",
         "['Celeb Heights']"
        ],
        [
         "1265",
         "234.0",
         "Bad Bunny",
         "180.0",
         "https://www.celebheights.com/tr/b/badbunny.jpg",
         "[Music]",
         "['Celeb Heights']"
        ],
        [
         "1414",
         "435.0",
         "Ben Shapiro",
         "170.0",
         "https://www.celebheights.com/tr/b/benshapiro.jpg",
         "[Acting]",
         "['Celeb Heights']"
        ],
        [
         "1416",
         "408.0",
         "Ben Simmons",
         "204.0",
         "https://www.celebheights.com/tr/b/bensimmons.jpg",
         "[Sports]",
         "['Celeb Heights']"
        ],
        [
         "1430",
         "677.0",
         "Benjamin Netanyahu",
         "179.0",
         "https://www.celebheights.com/tr/b/benjaminnetanyahu.jpg",
         "[Politics]",
         "['Celeb Heights']"
        ],
        [
         "1482",
         "458.0",
         "Betty White",
         "163.0",
         "https://www.celebheights.com/tr/b/bettywhite.jpg",
         "[Acting]",
         "['Celeb Heights']"
        ],
        [
         "1491",
         "64.0",
         "Beyonce Knowles",
         "168.0",
         "https://www.celebheights.com/tr/b/beyonceknowles.jpg",
         "[Music]",
         "['Celeb Heights']"
        ],
        [
         "1517",
         "283.0",
         "Bill Clinton",
         "187.0",
         "https://www.celebheights.com/tr/b/billclinton.jpg",
         "[Presidents]",
         "['Celeb Heights']"
        ],
        [
         "1523",
         "368.0",
         "Bill Hader",
         "185.0",
         "https://www.celebheights.com/tr/b/billhader.jpg",
         "[Acting]",
         "['Celeb Heights']"
        ],
        [
         "1528",
         "608.0",
         "Bill Murray",
         "185.0",
         "https://www.celebheights.com/tr/b/billmurray.jpg",
         "[Acting]",
         "['Celeb Heights']"
        ],
        [
         "1553",
         "731.0",
         "Billie Joe Armstrong",
         "170.0",
         "https://www.celebheights.com/tr/b/billiejoearmstrong.jpg",
         "[Music]",
         "['Celeb Heights']"
        ],
        [
         "1572",
         "494.0",
         "Billy Joel",
         "166.0",
         "https://www.celebheights.com/tr/b/billyjoel.jpg",
         "[Music]",
         "['Celeb Heights']"
        ],
        [
         "1668",
         "678.0",
         "Boris Johnson",
         "175.0",
         "https://www.celebheights.com/tr/b/borisjohnson.jpg",
         "[Politics]",
         "['Celeb Heights']"
        ],
        [
         "1692",
         "310.0",
         "Bradley Cooper",
         "184.0",
         "https://www.celebheights.com/tr/b/bradleycooper.jpg",
         "[Acting]",
         "['Celeb Heights']"
        ],
        [
         "1833",
         "278.0",
         "Bridgit Mendler",
         "168.0",
         "https://www.celebheights.com/tr/b/bridgitmendler.jpg",
         "[Acting]",
         "['Celeb Heights']"
        ],
        [
         "1834",
         "702.0",
         "Brie Larson",
         "170.0",
         "https://www.celebheights.com/tr/b/brielarson.jpg",
         "[Acting]",
         "['Celeb Heights']"
        ],
        [
         "1922",
         "346.0",
         "Bruce Willis",
         "182.0",
         "https://www.celebheights.com/tr/b/brucewillis.jpg",
         "[Acting]",
         "['Celeb Heights']"
        ],
        [
         "2023",
         "300.0",
         "Cameron Diaz",
         "173.0",
         "https://www.celebheights.com/tr/c/camerondiaz.jpg",
         "[Acting]",
         "['Celeb Heights']"
        ],
        [
         "2075",
         "238.0",
         "Cardi B",
         "155.0",
         "https://www.celebheights.com/tr/c/cardib.jpg",
         "[Music]",
         "['Celeb Heights']"
        ],
        [
         "2129",
         "468.0",
         "Carol Burnett",
         "169.0",
         "https://www.celebheights.com/tr/c/carolburnett.jpg",
         "[Acting]",
         "['Celeb Heights']"
        ],
        [
         "2205",
         "391.0",
         "Casey Neistat",
         "175.0",
         "https://www.celebheights.com/tr/c/caseyneistat.jpg",
         "[Influencers]",
         "['Celeb Heights']"
        ],
        [
         "2227",
         "296.0",
         "Cate Blanchett",
         "173.0",
         "https://www.celebheights.com/tr/c/cateblanchett.jpg",
         "[Acting]",
         "['Celeb Heights']"
        ],
        [
         "2298",
         "271.0",
         "Chadwick Boseman",
         "182.0",
         "https://www.celebheights.com/tr/c/chadwickboseman.jpg",
         "[Acting]",
         "['Celeb Heights']"
        ],
        [
         "2303",
         "258.0",
         "Chance",
         "178.0",
         "https://www.celebheights.com/tr/c/chance.jpg",
         "[Music]",
         "['Celeb Heights']"
        ],
        [
         "2314",
         "291.0",
         "Channing Tatum",
         "184.0",
         "https://www.celebheights.com/tr/c/channingtatum.jpg",
         "[Acting]",
         "['Celeb Heights']"
        ],
        [
         "2331",
         "412.0",
         "Charles Barkley",
         "195.0",
         "https://www.celebheights.com/tr/c/charlesbarkley.jpg",
         "[Sports]",
         "['Celeb Heights']"
        ],
        [
         "2367",
         "406.0",
         "Charli XCX",
         "160.0",
         "https://www.celebheights.com/tr/c/charlixcx.jpg",
         "[Music]",
         "['Celeb Heights']"
        ],
        [
         "2371",
         "739.0",
         "Charlie Chaplin",
         "163.0",
         "https://www.celebheights.com/tr/c/charliechaplin.jpg",
         "[Filmmakers]",
         "['Celeb Heights']"
        ],
        [
         "2388",
         "264.0",
         "Charlie Puth",
         "178.0",
         "https://www.celebheights.com/tr/c/charlieputh.jpg",
         "[Music]",
         "['Celeb Heights']"
        ],
        [
         "2525",
         "208.0",
         "Chris Evans",
         "183.0",
         "https://www.celebheights.com/tr/c/chrisevans.jpg",
         "[Acting]",
         "['Celeb Heights']"
        ],
        [
         "2535",
         "206.0",
         "Chris Hemsworth",
         "191.0",
         "https://www.celebheights.com/tr/c/chrishemsworth.jpg",
         "[Acting]",
         "['Celeb Heights']"
        ],
        [
         "2557",
         "411.0",
         "Chris Paul",
         "182.0",
         "https://www.celebheights.com/tr/c/chrispaul.jpg",
         "[Sports]",
         "['Celeb Heights']"
        ]
       ],
       "shape": {
        "columns": 6,
        "rows": 352
       }
      },
      "text/html": [
       "<div>\n",
       "<style scoped>\n",
       "    .dataframe tbody tr th:only-of-type {\n",
       "        vertical-align: middle;\n",
       "    }\n",
       "\n",
       "    .dataframe tbody tr th {\n",
       "        vertical-align: top;\n",
       "    }\n",
       "\n",
       "    .dataframe thead th {\n",
       "        text-align: right;\n",
       "    }\n",
       "</style>\n",
       "<table border=\"1\" class=\"dataframe\">\n",
       "  <thead>\n",
       "    <tr style=\"text-align: right;\">\n",
       "      <th></th>\n",
       "      <th>ID</th>\n",
       "      <th>Name</th>\n",
       "      <th>Height</th>\n",
       "      <th>Image</th>\n",
       "      <th>Category</th>\n",
       "      <th>Source</th>\n",
       "    </tr>\n",
       "  </thead>\n",
       "  <tbody>\n",
       "    <tr>\n",
       "      <th>22</th>\n",
       "      <td>726.0</td>\n",
       "      <td>Aaron Paul</td>\n",
       "      <td>172.0</td>\n",
       "      <td>https://www.celebheights.com/tr/a/aaronpaul.jpg</td>\n",
       "      <td>[Acting]</td>\n",
       "      <td>[Celeb Heights]</td>\n",
       "    </tr>\n",
       "    <tr>\n",
       "      <th>75</th>\n",
       "      <td>340.0</td>\n",
       "      <td>Adam Driver</td>\n",
       "      <td>189.0</td>\n",
       "      <td>https://www.celebheights.com/tr/a/adamdriver.jpg</td>\n",
       "      <td>[Acting]</td>\n",
       "      <td>[Celeb Heights]</td>\n",
       "    </tr>\n",
       "    <tr>\n",
       "      <th>97</th>\n",
       "      <td>221.0</td>\n",
       "      <td>Adam Scott</td>\n",
       "      <td>175.0</td>\n",
       "      <td>https://www.celebheights.com/tr/a/adamscott.jpg</td>\n",
       "      <td>[Acting]</td>\n",
       "      <td>[Celeb Heights]</td>\n",
       "    </tr>\n",
       "    <tr>\n",
       "      <th>119</th>\n",
       "      <td>282.0</td>\n",
       "      <td>Adolf Hitler</td>\n",
       "      <td>174.0</td>\n",
       "      <td>https://www.celebheights.com/tr/a/adolfhitler.jpg</td>\n",
       "      <td>[Politics,Historical]</td>\n",
       "      <td>[Celeb Heights]</td>\n",
       "    </tr>\n",
       "    <tr>\n",
       "      <th>201</th>\n",
       "      <td>438.0</td>\n",
       "      <td>Al Gore</td>\n",
       "      <td>185.0</td>\n",
       "      <td>https://www.celebheights.com/tr/a/algore.jpg</td>\n",
       "      <td>[Politics]</td>\n",
       "      <td>[Celeb Heights]</td>\n",
       "    </tr>\n",
       "    <tr>\n",
       "      <th>...</th>\n",
       "      <td>...</td>\n",
       "      <td>...</td>\n",
       "      <td>...</td>\n",
       "      <td>...</td>\n",
       "      <td>...</td>\n",
       "      <td>...</td>\n",
       "    </tr>\n",
       "    <tr>\n",
       "      <th>14289</th>\n",
       "      <td>401.0</td>\n",
       "      <td>Wilt Chamberlain</td>\n",
       "      <td>216.0</td>\n",
       "      <td>https://www.celebheights.com/tr/w/wiltchamberl...</td>\n",
       "      <td>[Sports]</td>\n",
       "      <td>[Celeb Heights]</td>\n",
       "    </tr>\n",
       "    <tr>\n",
       "      <th>14293</th>\n",
       "      <td>280.0</td>\n",
       "      <td>Winston Churchill</td>\n",
       "      <td>169.0</td>\n",
       "      <td>https://www.celebheights.com/tr/w/winstonchurc...</td>\n",
       "      <td>[Politics,Historical]</td>\n",
       "      <td>[Celeb Heights]</td>\n",
       "    </tr>\n",
       "    <tr>\n",
       "      <th>14298</th>\n",
       "      <td>259.0</td>\n",
       "      <td>Wiz Khalifa</td>\n",
       "      <td>190.0</td>\n",
       "      <td>https://www.celebheights.com/tr/w/wizkhalifa.jpg</td>\n",
       "      <td>[Music]</td>\n",
       "      <td>[Celeb Heights]</td>\n",
       "    </tr>\n",
       "    <tr>\n",
       "      <th>14305</th>\n",
       "      <td>560.0</td>\n",
       "      <td>Woody Allen</td>\n",
       "      <td>165.0</td>\n",
       "      <td>https://www.celebheights.com/tr/w/woodyallen.jpg</td>\n",
       "      <td>[Filmmakers]</td>\n",
       "      <td>[Celeb Heights]</td>\n",
       "    </tr>\n",
       "    <tr>\n",
       "      <th>14384</th>\n",
       "      <td>289.0</td>\n",
       "      <td>Zac Efron</td>\n",
       "      <td>173.0</td>\n",
       "      <td>https://www.celebheights.com/tr/z/zacefron.jpg</td>\n",
       "      <td>[Acting]</td>\n",
       "      <td>[Celeb Heights]</td>\n",
       "    </tr>\n",
       "  </tbody>\n",
       "</table>\n",
       "<p>352 rows × 6 columns</p>\n",
       "</div>"
      ],
      "text/plain": [
       "          ID               Name  Height  \\\n",
       "22     726.0         Aaron Paul   172.0   \n",
       "75     340.0        Adam Driver   189.0   \n",
       "97     221.0         Adam Scott   175.0   \n",
       "119    282.0       Adolf Hitler   174.0   \n",
       "201    438.0            Al Gore   185.0   \n",
       "...      ...                ...     ...   \n",
       "14289  401.0   Wilt Chamberlain   216.0   \n",
       "14293  280.0  Winston Churchill   169.0   \n",
       "14298  259.0        Wiz Khalifa   190.0   \n",
       "14305  560.0        Woody Allen   165.0   \n",
       "14384  289.0          Zac Efron   173.0   \n",
       "\n",
       "                                                   Image  \\\n",
       "22       https://www.celebheights.com/tr/a/aaronpaul.jpg   \n",
       "75      https://www.celebheights.com/tr/a/adamdriver.jpg   \n",
       "97       https://www.celebheights.com/tr/a/adamscott.jpg   \n",
       "119    https://www.celebheights.com/tr/a/adolfhitler.jpg   \n",
       "201         https://www.celebheights.com/tr/a/algore.jpg   \n",
       "...                                                  ...   \n",
       "14289  https://www.celebheights.com/tr/w/wiltchamberl...   \n",
       "14293  https://www.celebheights.com/tr/w/winstonchurc...   \n",
       "14298   https://www.celebheights.com/tr/w/wizkhalifa.jpg   \n",
       "14305   https://www.celebheights.com/tr/w/woodyallen.jpg   \n",
       "14384     https://www.celebheights.com/tr/z/zacefron.jpg   \n",
       "\n",
       "                    Category           Source  \n",
       "22                  [Acting]  [Celeb Heights]  \n",
       "75                  [Acting]  [Celeb Heights]  \n",
       "97                  [Acting]  [Celeb Heights]  \n",
       "119    [Politics,Historical]  [Celeb Heights]  \n",
       "201               [Politics]  [Celeb Heights]  \n",
       "...                      ...              ...  \n",
       "14289               [Sports]  [Celeb Heights]  \n",
       "14293  [Politics,Historical]  [Celeb Heights]  \n",
       "14298                [Music]  [Celeb Heights]  \n",
       "14305           [Filmmakers]  [Celeb Heights]  \n",
       "14384               [Acting]  [Celeb Heights]  \n",
       "\n",
       "[352 rows x 6 columns]"
      ]
     },
     "execution_count": 11,
     "metadata": {},
     "output_type": "execute_result"
    }
   ],
   "source": [
    "combined['Source'] = [['Celeb Heights']] * len(combined)\n",
    "combined.drop(columns=['_merge'], inplace=True)\n",
    "combined = combined[new_order]\n",
    "combined"
   ]
  },
  {
   "cell_type": "code",
   "execution_count": 12,
   "id": "af58973b",
   "metadata": {},
   "outputs": [
    {
     "data": {
      "application/vnd.microsoft.datawrangler.viewer.v0+json": {
       "columns": [
        {
         "name": "index",
         "rawType": "int64",
         "type": "integer"
        },
        {
         "name": "ID",
         "rawType": "int64",
         "type": "integer"
        },
        {
         "name": "Name",
         "rawType": "object",
         "type": "string"
        },
        {
         "name": "Height",
         "rawType": "float64",
         "type": "float"
        },
        {
         "name": "Image",
         "rawType": "object",
         "type": "string"
        },
        {
         "name": "Category",
         "rawType": "object",
         "type": "string"
        },
        {
         "name": "Source",
         "rawType": "object",
         "type": "string"
        }
       ],
       "conversionMethod": "pd.DataFrame",
       "ref": "aae167a1-9452-48e1-bdd0-02770a36b81b",
       "rows": [
        [
         "0",
         "265",
         "21 Savage",
         "182.0",
         "https://www.celebheights.com/tr/0/21savage.jpg",
         "[Music]",
         "[Celeb Heights]"
        ],
        [
         "1",
         "14",
         "Abraham Lincoln",
         "192.0",
         "https://www.celebheights.com/tr/a/abrahamlincoln.jpg",
         "[Presidents,Historical]",
         "[Celeb Heights]"
        ],
        [
         "2",
         "109",
         "Adam Sandler",
         "177.0",
         "https://www.celebheights.com/tr/a/adamsandler.jpg",
         "[Acting,Comedy]",
         "[Celeb Heights]"
        ],
        [
         "3",
         "199",
         "Adam Savage",
         "179.0",
         "https://www.celebheights.com/tr/a/adamsavage.jpg",
         "[Influencers,Acting]",
         "[Celeb Heights]"
        ],
        [
         "4",
         "95",
         "Addison Rae",
         "160.0",
         "https://www.celebheights.com/tr/a/addisonrae.jpg",
         "[Influencers]",
         "[Celeb Heights]"
        ],
        [
         "5",
         "76",
         "Adele",
         "173.0",
         "https://www.celebheights.com/tr/a/adele.jpg",
         "[Music]",
         "[Celeb Heights]"
        ],
        [
         "6",
         "22",
         "Al Capone",
         "179.0",
         "https://upload.wikimedia.org/wikipedia/commons/thumb/a/a4/Al_Capone_in_1929.jpg/203px-Al_Capone_in_1929.jpg",
         "[Historical,Wealth]",
         "[IMDb]"
        ],
        [
         "7",
         "600",
         "Alan Turing",
         "182.0",
         "https://upload.wikimedia.org/wikipedia/commons/thumb/e/ea/Alan_Turing_%281912-1954%29_in_1936_at_Princeton_University_%28b%26w%29.jpg/250px-Alan_Turing_%281912-1954%29_in_1936_at_Princeton_University_%28b%26w%29.jpg",
         "[Scientists]",
         "[IMDb]"
        ],
        [
         "8",
         "711",
         "Alan Walker",
         "185.0",
         "https://upload.wikimedia.org/wikipedia/commons/thumb/7/71/Alan_Walker_visits_Spangdahlem.jpg/160px-Alan_Walker_visits_Spangdahlem.jpg",
         "[Music]",
         "[IMDb]"
        ],
        [
         "9",
         "40",
         "Albert Einstein",
         "171.0",
         "https://www.celebheights.com/tr/a/alberteinstein.jpg",
         "[Historical,Scientists]",
         "[Celeb Heights]"
        ],
        [
         "10",
         "115",
         "Alec Baldwin",
         "182.0",
         "https://www.celebheights.com/tr/a/alecbaldwin.jpg",
         "[Acting]",
         "[Celeb Heights]"
        ],
        [
         "11",
         "682",
         "Alex Trebek",
         "180.0",
         "https://upload.wikimedia.org/wikipedia/commons/thumb/b/bf/Alex_Trebek_%287269138454%29.jpg/250px-Alex_Trebek_%287269138454%29.jpg",
         "[Acting]",
         "[IMDb]"
        ],
        [
         "12",
         "667",
         "Alexander Hamilton",
         "169.0",
         "https://upload.wikimedia.org/wikipedia/commons/thumb/1/14/Ezra_Ames_portrait_of_Alexander_Hamilton%2C_posthumous%2C_ca._1810_%28cropped%29.jpg/250px-Ezra_Ames_portrait_of_Alexander_Hamilton%2C_posthumous%2C_ca._1810_%28cropped%29.jpg",
         "[Historical]",
         "[Wikipedia]"
        ],
        [
         "14",
         "32",
         "Amelia Earhart",
         "173.0",
         "https://upload.wikimedia.org/wikipedia/commons/7/79/Amelia_Earhart_1928_%28cropped%29.jpg",
         "[Historical]",
         "[Google]"
        ],
        [
         "15",
         "568",
         "Andre the Giant",
         "224.0",
         "https://upload.wikimedia.org/wikipedia/commons/thumb/8/8d/Andre_the_Giant_1980s_%28cropped%29.jpg/240px-Andre_the_Giant_1980s_%28cropped%29.jpg",
         "[Sports]",
         "[IMDb]"
        ],
        [
         "16",
         "37",
         "Andrew Carnegie",
         "160.0",
         "https://upload.wikimedia.org/wikipedia/commons/thumb/0/09/Andrew_Carnegie%2C_three-quarter_length_portrait%2C_seated%2C_facing_slightly_left%2C_1913-crop.jpg/250px-Andrew_Carnegie%2C_three-quarter_length_portrait%2C_seated%2C_facing_slightly_left%2C_1913-crop.jpg",
         "[Historical,Wealth]",
         "[IMDb]"
        ],
        [
         "17",
         "519",
         "Andrew Jackson",
         "185.0",
         "https://upload.wikimedia.org/wikipedia/commons/thumb/2/27/78yo_Andrew_Jackson.jpg/175px-78yo_Andrew_Jackson.jpg",
         "[Presidents]",
         "[Wikipedia]"
        ],
        [
         "18",
         "453",
         "Anthony Fauci",
         "170.0",
         "https://upload.wikimedia.org/wikipedia/commons/thumb/9/99/Anthony_Fauci_in_2023_02_%28cropped%29.jpg/197px-Anthony_Fauci_in_2023_02_%28cropped%29.jpg",
         "[Politics]",
         "[IMDb]"
        ],
        [
         "19",
         "663",
         "Archduke Franz Ferdinand",
         "142.2",
         "https://upload.wikimedia.org/wikipedia/commons/thumb/c/c1/Ferdinand_Schmutzer_-_Franz_Ferdinand_von_%C3%96sterreich-Este%2C_um_1914_%28cropped%29.jpg/250px-Ferdinand_Schmutzer_-_Franz_Ferdinand_von_%C3%96sterreich-Este%2C_um_1914_%28cropped%29.jpg",
         "[Historical]",
         "[Google]"
        ],
        [
         "20",
         "142",
         "Ariana Grande",
         "154.0",
         "https://www.celebheights.com/tr/a/arianagrande.jpg",
         "[Music,Acting]",
         "[Celeb Heights]"
        ],
        [
         "22",
         "84",
         "Arnold Schwarzenegger",
         "187.0",
         "https://www.celebheights.com/tr/a/arnoldschwarzenegger.jpg",
         "[Acting,Politics,Sports]",
         "[Celeb Heights]"
        ],
        [
         "23",
         "27",
         "Babe Ruth",
         "187.0",
         "https://www.celebheights.com/tr/b/baberuth.jpg",
         "[Sports]",
         "[Celeb Heights]"
        ],
        [
         "24",
         "33",
         "Barack Obama",
         "185.0",
         "https://www.celebheights.com/tr/b/barackobama.jpg",
         "[Presidents]",
         "[Celeb Heights]"
        ],
        [
         "25",
         "96",
         "Bella Poarch",
         "151.0",
         "https://www.celebheights.com/tr/b/bellapoarch.jpg",
         "[Influencers]",
         "[Celeb Heights]"
        ],
        [
         "26",
         "55",
         "Ben Affleck",
         "189.0",
         "https://www.celebheights.com/tr/b/benaffleck.jpg",
         "[Acting]",
         "[Celeb Heights]"
        ],
        [
         "27",
         "132",
         "Ben Stiller",
         "168.0",
         "https://www.celebheights.com/tr/b/benstiller.jpg",
         "[Acting,Comedy]",
         "[Celeb Heights]"
        ],
        [
         "28",
         "315",
         "Benedict Cumberbatch",
         "182.0",
         "https://upload.wikimedia.org/wikipedia/commons/thumb/9/98/Benedict_Cumberbatch-67228.jpg/500px-Benedict_Cumberbatch-67228.jpg",
         "[Acting]",
         "[Celeb Heights]"
        ],
        [
         "29",
         "664",
         "Benito Mussolini",
         "169.0",
         "https://upload.wikimedia.org/wikipedia/commons/thumb/8/8a/Mussolini-dichiarazione-guerra_%28cropped%29.jpg/250px-Mussolini-dichiarazione-guerra_%28cropped%29.jpg",
         "[Historical]",
         "[IMDb]"
        ],
        [
         "30",
         "459",
         "Benjamin Franklin",
         "175.0",
         "https://upload.wikimedia.org/wikipedia/commons/thumb/8/87/Joseph_Siffrein_Duplessis_-_Benjamin_Franklin_-_Google_Art_Project.jpg/250px-Joseph_Siffrein_Duplessis_-_Benjamin_Franklin_-_Google_Art_Project.jpg",
         "[Historical,Politics]",
         "[IMDb]"
        ],
        [
         "31",
         "125",
         "Bernie Sanders",
         "183.0",
         "https://www.celebheights.com/tr/b/berniesanders.jpg",
         "[Politics]",
         "[Celeb Heights]"
        ],
        [
         "32",
         "82",
         "Bill Cosby",
         "183.0",
         "https://www.celebheights.com/tr/b/billcosby.jpg",
         "[Canceled,Comedy]",
         "[Celeb Heights]"
        ],
        [
         "33",
         "107",
         "Bill Gates",
         "177.0",
         "https://www.celebheights.com/tr/b/billgates.jpg",
         "[Wealth,Tech]",
         "[Celeb Heights]"
        ],
        [
         "34",
         "152",
         "Bill Nye the Science Guy",
         "184.0",
         "https://upload.wikimedia.org/wikipedia/commons/thumb/1/10/Bill_Nye.jpg/330px-Bill_Nye.jpg",
         "[Scientists,Comedy,Influencers]",
         "[IMDb]"
        ],
        [
         "35",
         "151",
         "Billie Eilish",
         "160.0",
         "https://www.celebheights.com/tr/b/billieeilish.jpg",
         "[Music]",
         "[Celeb Heights]"
        ],
        [
         "36",
         "479",
         "Bob Marley",
         "170.0",
         "https://upload.wikimedia.org/wikipedia/commons/thumb/e/ec/Bob_Marley_emancipated_from_mental_slavery_1.jpg/330px-Bob_Marley_emancipated_from_mental_slavery_1.jpg",
         "[Music]",
         "[Celeb Heights]"
        ],
        [
         "37",
         "727",
         "Bob Odenkirk",
         "175.0",
         "https://upload.wikimedia.org/wikipedia/commons/thumb/3/3e/Bob_Odenkirk_%2843602730951%29_%28cropped%29.jpg/189px-Bob_Odenkirk_%2843602730951%29_%28cropped%29.jpg",
         "[Acting]",
         "[Celeb Heights]"
        ],
        [
         "39",
         "62",
         "Brad Pitt",
         "180.0",
         "https://www.celebheights.com/tr/b/bradpitt.jpg",
         "[Acting]",
         "[Celeb Heights]"
        ],
        [
         "40",
         "50",
         "Britney Spears",
         "163.0",
         "https://www.celebheights.com/tr/b/britneyspears.jpg",
         "[Music]",
         "[Celeb Heights]"
        ],
        [
         "41",
         "29",
         "Bruce Lee",
         "171.0",
         "https://www.celebheights.com/tr/b/brucelee.jpg",
         "[Acting]",
         "[Celeb Heights]"
        ],
        [
         "42",
         "134",
         "Bruno Mars",
         "163.0",
         "https://www.celebheights.com/tr/b/brunomars.jpg",
         "[Music]",
         "[Celeb Heights]"
        ],
        [
         "43",
         "725",
         "Bryan Cranston",
         "175.0",
         "https://upload.wikimedia.org/wikipedia/commons/thumb/a/a0/Bryan_Cranston_at_85th_Acamdey_Awards.jpg/250px-Bryan_Cranston_at_85th_Acamdey_Awards.jpg",
         "[Acting]",
         "[Celeb Heights]"
        ],
        [
         "44",
         "538",
         "Buzz Aldrin",
         "178.0",
         "https://upload.wikimedia.org/wikipedia/commons/thumb/d/dc/Buzz_Aldrin_%28S69-31743%29_%28cropped%29.jpg/202px-Buzz_Aldrin_%28S69-31743%29_%28cropped%29.jpg",
         "[Scientists]",
         "[IMDb]"
        ],
        [
         "45",
         "586",
         "Carl Sagan",
         "180.0",
         "https://upload.wikimedia.org/wikipedia/commons/8/8d/Carl_Sagan_Planetary_Society_cropped.png",
         "[Scientists]",
         "[IMDb]"
        ],
        [
         "46",
         "339",
         "Carrie Fisher",
         "155.0",
         "https://upload.wikimedia.org/wikipedia/commons/thumb/0/03/Carrie_Fisher_2013-a_straightened.jpg/250px-Carrie_Fisher_2013-a_straightened.jpg",
         "[Acting]",
         "[Celeb Heights]"
        ],
        [
         "47",
         "672",
         "Catherine the Great",
         "157.5",
         "https://upload.wikimedia.org/wikipedia/commons/thumb/7/72/Catherine_II_after_Roslin%2C_Rokotov_%281780s%2C_Kunsthistorisches_Museum%29.jpg/250px-Catherine_II_after_Roslin%2C_Rokotov_%281780s%2C_Kunsthistorisches_Museum%29.jpg",
         "[Historical]",
         "[Google]"
        ],
        [
         "48",
         "164",
         "Charles Darwin",
         "180.0",
         "https://upload.wikimedia.org/wikipedia/commons/thumb/3/33/Charles_Darwin_by_Julia_Margaret_Cameron%2C_c._1868.jpg/250px-Charles_Darwin_by_Julia_Margaret_Cameron%2C_c._1868.jpg",
         "[Historical,Scientists]",
         "[IMDb]"
        ],
        [
         "49",
         "511",
         "Charles Dickens",
         "173.0",
         "https://upload.wikimedia.org/wikipedia/commons/2/29/Charles_Dickens_4.jpg",
         "[Writers]",
         "[IMDb]"
        ],
        [
         "51",
         "94",
         "Charli DAmelio",
         "160.0",
         "https://www.celebheights.com/tr/c/charlidamelio.jpg",
         "[Influencers]",
         "[Celeb Heights]"
        ],
        [
         "52",
         "183",
         "Che Guevara",
         "182.0",
         "https://upload.wikimedia.org/wikipedia/commons/thumb/8/80/Che_Guevara_-_Guerrillero_Heroico_by_Alberto_Korda.jpg/207px-Che_Guevara_-_Guerrillero_Heroico_by_Alberto_Korda.jpg",
         "[Historical]",
         "[IMDb]"
        ],
        [
         "53",
         "540",
         "Chris Hadfield",
         "182.0",
         "https://upload.wikimedia.org/wikipedia/commons/thumb/0/0c/Chris_Hadfield_2011.jpg/250px-Chris_Hadfield_2011.jpg",
         "[Scientists]",
         "[IMDb]"
        ]
       ],
       "shape": {
        "columns": 6,
        "rows": 320
       }
      },
      "text/html": [
       "<div>\n",
       "<style scoped>\n",
       "    .dataframe tbody tr th:only-of-type {\n",
       "        vertical-align: middle;\n",
       "    }\n",
       "\n",
       "    .dataframe tbody tr th {\n",
       "        vertical-align: top;\n",
       "    }\n",
       "\n",
       "    .dataframe thead th {\n",
       "        text-align: right;\n",
       "    }\n",
       "</style>\n",
       "<table border=\"1\" class=\"dataframe\">\n",
       "  <thead>\n",
       "    <tr style=\"text-align: right;\">\n",
       "      <th></th>\n",
       "      <th>ID</th>\n",
       "      <th>Name</th>\n",
       "      <th>Height</th>\n",
       "      <th>Image</th>\n",
       "      <th>Category</th>\n",
       "      <th>Source</th>\n",
       "    </tr>\n",
       "  </thead>\n",
       "  <tbody>\n",
       "    <tr>\n",
       "      <th>0</th>\n",
       "      <td>265</td>\n",
       "      <td>21 Savage</td>\n",
       "      <td>182.0</td>\n",
       "      <td>https://www.celebheights.com/tr/0/21savage.jpg</td>\n",
       "      <td>[Music]</td>\n",
       "      <td>[Celeb Heights]</td>\n",
       "    </tr>\n",
       "    <tr>\n",
       "      <th>1</th>\n",
       "      <td>14</td>\n",
       "      <td>Abraham Lincoln</td>\n",
       "      <td>192.0</td>\n",
       "      <td>https://www.celebheights.com/tr/a/abrahamlinco...</td>\n",
       "      <td>[Presidents,Historical]</td>\n",
       "      <td>[Celeb Heights]</td>\n",
       "    </tr>\n",
       "    <tr>\n",
       "      <th>2</th>\n",
       "      <td>109</td>\n",
       "      <td>Adam Sandler</td>\n",
       "      <td>177.0</td>\n",
       "      <td>https://www.celebheights.com/tr/a/adamsandler.jpg</td>\n",
       "      <td>[Acting,Comedy]</td>\n",
       "      <td>[Celeb Heights]</td>\n",
       "    </tr>\n",
       "    <tr>\n",
       "      <th>3</th>\n",
       "      <td>199</td>\n",
       "      <td>Adam Savage</td>\n",
       "      <td>179.0</td>\n",
       "      <td>https://www.celebheights.com/tr/a/adamsavage.jpg</td>\n",
       "      <td>[Influencers,Acting]</td>\n",
       "      <td>[Celeb Heights]</td>\n",
       "    </tr>\n",
       "    <tr>\n",
       "      <th>4</th>\n",
       "      <td>95</td>\n",
       "      <td>Addison Rae</td>\n",
       "      <td>160.0</td>\n",
       "      <td>https://www.celebheights.com/tr/a/addisonrae.jpg</td>\n",
       "      <td>[Influencers]</td>\n",
       "      <td>[Celeb Heights]</td>\n",
       "    </tr>\n",
       "    <tr>\n",
       "      <th>...</th>\n",
       "      <td>...</td>\n",
       "      <td>...</td>\n",
       "      <td>...</td>\n",
       "      <td>...</td>\n",
       "      <td>...</td>\n",
       "      <td>...</td>\n",
       "    </tr>\n",
       "    <tr>\n",
       "      <th>332</th>\n",
       "      <td>662</td>\n",
       "      <td>Xi Jinping</td>\n",
       "      <td>180.0</td>\n",
       "      <td>https://upload.wikimedia.org/wikipedia/commons...</td>\n",
       "      <td>[Politics]</td>\n",
       "      <td>[IMDb]</td>\n",
       "    </tr>\n",
       "    <tr>\n",
       "      <th>333</th>\n",
       "      <td>605</td>\n",
       "      <td>Zachary Levi</td>\n",
       "      <td>191.0</td>\n",
       "      <td>https://upload.wikimedia.org/wikipedia/commons...</td>\n",
       "      <td>[Acting]</td>\n",
       "      <td>[Celeb Heights]</td>\n",
       "    </tr>\n",
       "    <tr>\n",
       "      <th>334</th>\n",
       "      <td>740</td>\n",
       "      <td>Zack Snyder</td>\n",
       "      <td>170.0</td>\n",
       "      <td>https://upload.wikimedia.org/wikipedia/commons...</td>\n",
       "      <td>[Filmmakers]</td>\n",
       "      <td>[IMDb]</td>\n",
       "    </tr>\n",
       "    <tr>\n",
       "      <th>335</th>\n",
       "      <td>156</td>\n",
       "      <td>Zendaya</td>\n",
       "      <td>174.0</td>\n",
       "      <td>https://www.celebheights.com/tr/z/zendaya.jpg</td>\n",
       "      <td>[Acting]</td>\n",
       "      <td>[Celeb Heights]</td>\n",
       "    </tr>\n",
       "    <tr>\n",
       "      <th>336</th>\n",
       "      <td>680</td>\n",
       "      <td>Pat Sajak</td>\n",
       "      <td>178.0</td>\n",
       "      <td>https://upload.wikimedia.org/wikipedia/commons...</td>\n",
       "      <td>[Acting]</td>\n",
       "      <td>[IMDb]</td>\n",
       "    </tr>\n",
       "  </tbody>\n",
       "</table>\n",
       "<p>320 rows × 6 columns</p>\n",
       "</div>"
      ],
      "text/plain": [
       "      ID             Name  Height  \\\n",
       "0    265        21 Savage   182.0   \n",
       "1     14  Abraham Lincoln   192.0   \n",
       "2    109     Adam Sandler   177.0   \n",
       "3    199      Adam Savage   179.0   \n",
       "4     95      Addison Rae   160.0   \n",
       "..   ...              ...     ...   \n",
       "332  662       Xi Jinping   180.0   \n",
       "333  605     Zachary Levi   191.0   \n",
       "334  740      Zack Snyder   170.0   \n",
       "335  156          Zendaya   174.0   \n",
       "336  680        Pat Sajak   178.0   \n",
       "\n",
       "                                                 Image  \\\n",
       "0       https://www.celebheights.com/tr/0/21savage.jpg   \n",
       "1    https://www.celebheights.com/tr/a/abrahamlinco...   \n",
       "2    https://www.celebheights.com/tr/a/adamsandler.jpg   \n",
       "3     https://www.celebheights.com/tr/a/adamsavage.jpg   \n",
       "4     https://www.celebheights.com/tr/a/addisonrae.jpg   \n",
       "..                                                 ...   \n",
       "332  https://upload.wikimedia.org/wikipedia/commons...   \n",
       "333  https://upload.wikimedia.org/wikipedia/commons...   \n",
       "334  https://upload.wikimedia.org/wikipedia/commons...   \n",
       "335      https://www.celebheights.com/tr/z/zendaya.jpg   \n",
       "336  https://upload.wikimedia.org/wikipedia/commons...   \n",
       "\n",
       "                    Category           Source  \n",
       "0                    [Music]  [Celeb Heights]  \n",
       "1    [Presidents,Historical]  [Celeb Heights]  \n",
       "2            [Acting,Comedy]  [Celeb Heights]  \n",
       "3       [Influencers,Acting]  [Celeb Heights]  \n",
       "4              [Influencers]  [Celeb Heights]  \n",
       "..                       ...              ...  \n",
       "332               [Politics]           [IMDb]  \n",
       "333                 [Acting]  [Celeb Heights]  \n",
       "334             [Filmmakers]           [IMDb]  \n",
       "335                 [Acting]  [Celeb Heights]  \n",
       "336                 [Acting]           [IMDb]  \n",
       "\n",
       "[320 rows x 6 columns]"
      ]
     },
     "execution_count": 12,
     "metadata": {},
     "output_type": "execute_result"
    }
   ],
   "source": [
    "unmatched = pd.merge(unmatched['Name'], notion_data)\n",
    "custom = unmatched[unmatched['Height'].notna() & unmatched['Image'].notna()]\n",
    "custom = custom[new_order]\n",
    "custom"
   ]
  },
  {
   "cell_type": "code",
   "execution_count": 13,
   "id": "2383daf1",
   "metadata": {},
   "outputs": [
    {
     "data": {
      "application/vnd.microsoft.datawrangler.viewer.v0+json": {
       "columns": [
        {
         "name": "index",
         "rawType": "int64",
         "type": "integer"
        },
        {
         "name": "ID",
         "rawType": "int64",
         "type": "integer"
        },
        {
         "name": "Name",
         "rawType": "object",
         "type": "string"
        },
        {
         "name": "Height",
         "rawType": "float64",
         "type": "float"
        },
        {
         "name": "Image",
         "rawType": "object",
         "type": "unknown"
        },
        {
         "name": "Category",
         "rawType": "object",
         "type": "string"
        },
        {
         "name": "Source",
         "rawType": "object",
         "type": "string"
        }
       ],
       "conversionMethod": "pd.DataFrame",
       "ref": "f873e500-9b93-43a5-a870-65273704e0cb",
       "rows": [
        [
         "13",
         "671",
         "Alexander the Great",
         null,
         null,
         "[Historical]",
         "[]"
        ],
        [
         "21",
         "180",
         "Aristotle",
         null,
         null,
         "[Historical]",
         "[]"
        ],
        [
         "38",
         "691",
         "Bob Ross",
         "188.0",
         null,
         "[Influencers]",
         "[IMDb]"
        ],
        [
         "50",
         "665",
         "Charles de Gaulle",
         null,
         null,
         "[Historical]",
         "[]"
        ],
        [
         "65",
         "189",
         "Dev",
         "171.0",
         null,
         "[Other]",
         "[Us]"
        ],
        [
         "68",
         "97",
         "Dixie D'Amelio",
         null,
         null,
         "[Influencers]",
         "[]"
        ],
        [
         "78",
         "501",
         "Elizabeth I",
         null,
         null,
         "[Historical]",
         "[]"
        ],
        [
         "86",
         "588",
         "Enrico Fermi",
         null,
         null,
         "[Scientists]",
         "[]"
        ],
        [
         "93",
         "17",
         "Galileo Galilei",
         null,
         null,
         "[Historical,Scientists]",
         "[]"
        ],
        [
         "94",
         "185",
         "Genghis Khan",
         null,
         null,
         "[Historical]",
         "[]"
        ],
        [
         "131",
         "594",
         "James Dyson",
         null,
         null,
         "[Tech]",
         "[]"
        ],
        [
         "162",
         "593",
         "John Muir",
         null,
         null,
         "[Historical]",
         "[]"
        ],
        [
         "169",
         "38",
         "Julius Caesar",
         null,
         null,
         "[Historical]",
         "[]"
        ],
        [
         "244",
         "584",
         "Niels Bohr",
         null,
         null,
         "[Scientists]",
         "[]"
        ],
        [
         "262",
         "675",
         "Queen Victoria",
         null,
         null,
         "[Historical]",
         "[]"
        ],
        [
         "278",
         "89",
         "Sal Khan",
         null,
         null,
         "[Influencers]",
         "[]"
        ],
        [
         "293",
         "520",
         "Socrates",
         null,
         null,
         "[Historical]",
         "[]"
        ]
       ],
       "shape": {
        "columns": 6,
        "rows": 17
       }
      },
      "text/html": [
       "<div>\n",
       "<style scoped>\n",
       "    .dataframe tbody tr th:only-of-type {\n",
       "        vertical-align: middle;\n",
       "    }\n",
       "\n",
       "    .dataframe tbody tr th {\n",
       "        vertical-align: top;\n",
       "    }\n",
       "\n",
       "    .dataframe thead th {\n",
       "        text-align: right;\n",
       "    }\n",
       "</style>\n",
       "<table border=\"1\" class=\"dataframe\">\n",
       "  <thead>\n",
       "    <tr style=\"text-align: right;\">\n",
       "      <th></th>\n",
       "      <th>ID</th>\n",
       "      <th>Name</th>\n",
       "      <th>Height</th>\n",
       "      <th>Image</th>\n",
       "      <th>Category</th>\n",
       "      <th>Source</th>\n",
       "    </tr>\n",
       "  </thead>\n",
       "  <tbody>\n",
       "    <tr>\n",
       "      <th>13</th>\n",
       "      <td>671</td>\n",
       "      <td>Alexander the Great</td>\n",
       "      <td>NaN</td>\n",
       "      <td>NaN</td>\n",
       "      <td>[Historical]</td>\n",
       "      <td>[]</td>\n",
       "    </tr>\n",
       "    <tr>\n",
       "      <th>21</th>\n",
       "      <td>180</td>\n",
       "      <td>Aristotle</td>\n",
       "      <td>NaN</td>\n",
       "      <td>NaN</td>\n",
       "      <td>[Historical]</td>\n",
       "      <td>[]</td>\n",
       "    </tr>\n",
       "    <tr>\n",
       "      <th>38</th>\n",
       "      <td>691</td>\n",
       "      <td>Bob Ross</td>\n",
       "      <td>188.0</td>\n",
       "      <td>NaN</td>\n",
       "      <td>[Influencers]</td>\n",
       "      <td>[IMDb]</td>\n",
       "    </tr>\n",
       "    <tr>\n",
       "      <th>50</th>\n",
       "      <td>665</td>\n",
       "      <td>Charles de Gaulle</td>\n",
       "      <td>NaN</td>\n",
       "      <td>NaN</td>\n",
       "      <td>[Historical]</td>\n",
       "      <td>[]</td>\n",
       "    </tr>\n",
       "    <tr>\n",
       "      <th>65</th>\n",
       "      <td>189</td>\n",
       "      <td>Dev</td>\n",
       "      <td>171.0</td>\n",
       "      <td>NaN</td>\n",
       "      <td>[Other]</td>\n",
       "      <td>[Us]</td>\n",
       "    </tr>\n",
       "    <tr>\n",
       "      <th>68</th>\n",
       "      <td>97</td>\n",
       "      <td>Dixie D'Amelio</td>\n",
       "      <td>NaN</td>\n",
       "      <td>NaN</td>\n",
       "      <td>[Influencers]</td>\n",
       "      <td>[]</td>\n",
       "    </tr>\n",
       "    <tr>\n",
       "      <th>78</th>\n",
       "      <td>501</td>\n",
       "      <td>Elizabeth I</td>\n",
       "      <td>NaN</td>\n",
       "      <td>NaN</td>\n",
       "      <td>[Historical]</td>\n",
       "      <td>[]</td>\n",
       "    </tr>\n",
       "    <tr>\n",
       "      <th>86</th>\n",
       "      <td>588</td>\n",
       "      <td>Enrico Fermi</td>\n",
       "      <td>NaN</td>\n",
       "      <td>NaN</td>\n",
       "      <td>[Scientists]</td>\n",
       "      <td>[]</td>\n",
       "    </tr>\n",
       "    <tr>\n",
       "      <th>93</th>\n",
       "      <td>17</td>\n",
       "      <td>Galileo Galilei</td>\n",
       "      <td>NaN</td>\n",
       "      <td>NaN</td>\n",
       "      <td>[Historical,Scientists]</td>\n",
       "      <td>[]</td>\n",
       "    </tr>\n",
       "    <tr>\n",
       "      <th>94</th>\n",
       "      <td>185</td>\n",
       "      <td>Genghis Khan</td>\n",
       "      <td>NaN</td>\n",
       "      <td>NaN</td>\n",
       "      <td>[Historical]</td>\n",
       "      <td>[]</td>\n",
       "    </tr>\n",
       "    <tr>\n",
       "      <th>131</th>\n",
       "      <td>594</td>\n",
       "      <td>James Dyson</td>\n",
       "      <td>NaN</td>\n",
       "      <td>NaN</td>\n",
       "      <td>[Tech]</td>\n",
       "      <td>[]</td>\n",
       "    </tr>\n",
       "    <tr>\n",
       "      <th>162</th>\n",
       "      <td>593</td>\n",
       "      <td>John Muir</td>\n",
       "      <td>NaN</td>\n",
       "      <td>NaN</td>\n",
       "      <td>[Historical]</td>\n",
       "      <td>[]</td>\n",
       "    </tr>\n",
       "    <tr>\n",
       "      <th>169</th>\n",
       "      <td>38</td>\n",
       "      <td>Julius Caesar</td>\n",
       "      <td>NaN</td>\n",
       "      <td>NaN</td>\n",
       "      <td>[Historical]</td>\n",
       "      <td>[]</td>\n",
       "    </tr>\n",
       "    <tr>\n",
       "      <th>244</th>\n",
       "      <td>584</td>\n",
       "      <td>Niels Bohr</td>\n",
       "      <td>NaN</td>\n",
       "      <td>NaN</td>\n",
       "      <td>[Scientists]</td>\n",
       "      <td>[]</td>\n",
       "    </tr>\n",
       "    <tr>\n",
       "      <th>262</th>\n",
       "      <td>675</td>\n",
       "      <td>Queen Victoria</td>\n",
       "      <td>NaN</td>\n",
       "      <td>NaN</td>\n",
       "      <td>[Historical]</td>\n",
       "      <td>[]</td>\n",
       "    </tr>\n",
       "    <tr>\n",
       "      <th>278</th>\n",
       "      <td>89</td>\n",
       "      <td>Sal Khan</td>\n",
       "      <td>NaN</td>\n",
       "      <td>NaN</td>\n",
       "      <td>[Influencers]</td>\n",
       "      <td>[]</td>\n",
       "    </tr>\n",
       "    <tr>\n",
       "      <th>293</th>\n",
       "      <td>520</td>\n",
       "      <td>Socrates</td>\n",
       "      <td>NaN</td>\n",
       "      <td>NaN</td>\n",
       "      <td>[Historical]</td>\n",
       "      <td>[]</td>\n",
       "    </tr>\n",
       "  </tbody>\n",
       "</table>\n",
       "</div>"
      ],
      "text/plain": [
       "      ID                 Name  Height Image                 Category  Source\n",
       "13   671  Alexander the Great     NaN   NaN             [Historical]      []\n",
       "21   180            Aristotle     NaN   NaN             [Historical]      []\n",
       "38   691             Bob Ross   188.0   NaN            [Influencers]  [IMDb]\n",
       "50   665    Charles de Gaulle     NaN   NaN             [Historical]      []\n",
       "65   189                  Dev   171.0   NaN                  [Other]    [Us]\n",
       "68    97       Dixie D'Amelio     NaN   NaN            [Influencers]      []\n",
       "78   501          Elizabeth I     NaN   NaN             [Historical]      []\n",
       "86   588         Enrico Fermi     NaN   NaN             [Scientists]      []\n",
       "93    17      Galileo Galilei     NaN   NaN  [Historical,Scientists]      []\n",
       "94   185         Genghis Khan     NaN   NaN             [Historical]      []\n",
       "131  594          James Dyson     NaN   NaN                   [Tech]      []\n",
       "162  593            John Muir     NaN   NaN             [Historical]      []\n",
       "169   38        Julius Caesar     NaN   NaN             [Historical]      []\n",
       "244  584           Niels Bohr     NaN   NaN             [Scientists]      []\n",
       "262  675       Queen Victoria     NaN   NaN             [Historical]      []\n",
       "278   89             Sal Khan     NaN   NaN            [Influencers]      []\n",
       "293  520             Socrates     NaN   NaN             [Historical]      []"
      ]
     },
     "execution_count": 13,
     "metadata": {},
     "output_type": "execute_result"
    }
   ],
   "source": [
    "unmatched = unmatched[unmatched['Height'].isna() | unmatched['Image'].isna()]\n",
    "unmatched = unmatched[new_order]\n",
    "unmatched"
   ]
  },
  {
   "cell_type": "code",
   "execution_count": 14,
   "id": "1fa82d0b",
   "metadata": {},
   "outputs": [],
   "source": [
    "final = pd.concat([combined, custom]).sort_values(by='ID')\n",
    "final['ID'] = final['ID'].astype(int)\n",
    "final.to_csv('data/final_data.csv', index=False)"
   ]
  },
  {
   "cell_type": "code",
   "execution_count": 15,
   "id": "8e9ec953",
   "metadata": {},
   "outputs": [],
   "source": [
    "unmatched.to_csv('data/unmatched_data.csv', index=False)"
   ]
  }
 ],
 "metadata": {
  "kernelspec": {
   "display_name": ".venv",
   "language": "python",
   "name": "python3"
  },
  "language_info": {
   "codemirror_mode": {
    "name": "ipython",
    "version": 3
   },
   "file_extension": ".py",
   "mimetype": "text/x-python",
   "name": "python",
   "nbconvert_exporter": "python",
   "pygments_lexer": "ipython3",
   "version": "3.11.9"
  }
 },
 "nbformat": 4,
 "nbformat_minor": 5
}
