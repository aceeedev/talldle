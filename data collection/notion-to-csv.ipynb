{
 "cells": [
  {
   "cell_type": "markdown",
   "metadata": {},
   "source": [
    "Imports and setup"
   ]
  },
  {
   "cell_type": "code",
   "execution_count": 1,
   "metadata": {},
   "outputs": [],
   "source": [
    "%load_ext autoreload\n",
    "%autoreload 2\n",
    "\n",
    "import csv\n",
    "from datetime import date\n",
    "\n",
    "import utils"
   ]
  },
  {
   "cell_type": "markdown",
   "metadata": {},
   "source": [
    "Collect entries from Notion DB"
   ]
  },
  {
   "cell_type": "code",
   "execution_count": 2,
   "metadata": {},
   "outputs": [
    {
     "name": "stdout",
     "output_type": "stream",
     "text": [
      "fetched 190 entries!\n"
     ]
    }
   ],
   "source": [
    "data: list[utils.Entry] = utils.get_notion_entries()\n",
    "\n",
    "print(f\"fetched {len(data)} entries!\")"
   ]
  },
  {
   "cell_type": "markdown",
   "metadata": {},
   "source": [
    "Save entries to csv"
   ]
  },
  {
   "cell_type": "code",
   "execution_count": 3,
   "metadata": {},
   "outputs": [
    {
     "name": "stdout",
     "output_type": "stream",
     "text": [
      "saved 148 entries!\n"
     ]
    }
   ],
   "source": [
    "# only save entries if they have a height and img\n",
    "save_if_have_height_and_img: bool = True\n",
    "\n",
    "\n",
    "# filter entries if needed (only get if they have a height)\n",
    "if save_if_have_height_and_img:\n",
    "    new_data = []\n",
    "    for entry in data:\n",
    "        if entry.height != None and entry.image_url != None:\n",
    "            new_data.append(entry)\n",
    "\n",
    "    data = new_data\n",
    "\n",
    "# save to a dated csv\n",
    "with open(f\"data/notion-data-{date.today()}.csv\", 'w', newline='', encoding='utf-8') as csvfile:\n",
    "    writer = csv.writer(csvfile, delimiter=',')\n",
    "    \n",
    "    writer.writerow(['Name', 'Height', 'Image', 'Category', 'Source'])   \n",
    "    writer.writerows([entry.toList() for entry in data])\n",
    "\n",
    "print(f\"saved {len(data)} entries!\")"
   ]
  }
 ],
 "metadata": {
  "kernelspec": {
   "display_name": ".venv",
   "language": "python",
   "name": "python3"
  },
  "language_info": {
   "codemirror_mode": {
    "name": "ipython",
    "version": 3
   },
   "file_extension": ".py",
   "mimetype": "text/x-python",
   "name": "python",
   "nbconvert_exporter": "python",
   "pygments_lexer": "ipython3",
   "version": "3.11.9"
  }
 },
 "nbformat": 4,
 "nbformat_minor": 2
}
