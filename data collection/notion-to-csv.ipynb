{
 "cells": [
  {
   "cell_type": "markdown",
   "metadata": {},
   "source": [
    "Imports, secrets, and setup"
   ]
  },
  {
   "cell_type": "code",
   "execution_count": 3,
   "metadata": {},
   "outputs": [],
   "source": [
    "import csv\n",
    "import requests\n",
    "from dotenv import load_dotenv\n",
    "import os\n",
    "from datetime import date\n",
    "\n",
    "load_dotenv()\n",
    "NOTION_API = os.getenv('NOTION_API')\n",
    "NOTION_DATABASE_ID = os.getenv('NOTION_DATABASE_ID')\n",
    "\n",
    "class Entry:\n",
    "    def __init__(self, name, height, imageUrl, categories, sources):\n",
    "        self.name: str = name\n",
    "        self.height: int = height\n",
    "        self.imageUrl: str = imageUrl\n",
    "        self.categories: str = categories\n",
    "        self.sources: str = sources\n",
    "\n",
    "    def toList(self) -> list[str | int]:\n",
    "        return [self.name, self.height, self.imageUrl, self.categories, self.sources]"
   ]
  },
  {
   "cell_type": "markdown",
   "metadata": {},
   "source": [
    "Collect entries from Notion DB"
   ]
  },
  {
   "cell_type": "code",
   "execution_count": 4,
   "metadata": {},
   "outputs": [
    {
     "name": "stdout",
     "output_type": "stream",
     "text": [
      "fetched 190 entries!\n"
     ]
    }
   ],
   "source": [
    "data: list[Entry] = []\n",
    "\n",
    "headers = {\n",
    "    'Authorization': f\"Bearer {NOTION_API}\",\n",
    "    'Content-Type': 'application/json',\n",
    "    'Notion-Version': '2022-06-28',\n",
    "}\n",
    "\n",
    "not_done = True\n",
    "start_cursor = ''\n",
    "while (not_done):\n",
    "    body = {}\n",
    "    if start_cursor != '':\n",
    "        body = {\n",
    "            'start_cursor': start_cursor\n",
    "        }\n",
    "\n",
    "    response = requests.post(f\"https://api.notion.com/v1/databases/{NOTION_DATABASE_ID}/query\", headers=headers, json=body)\n",
    "    if response.status_code != 404:\n",
    "        json = response.json()\n",
    "\n",
    "        for row in json['results']:\n",
    "            props = row['properties']\n",
    "\n",
    "            name = props['Name']['title'][0]['plain_text']\n",
    "            height = props['Height (cm)']['number']\n",
    "            imageUrl = props['Image URL']['url']\n",
    "            categories = f\"[{','.join(list(map(lambda x: x['name'], props['Tags']['multi_select'])))}]\"\n",
    "            sources = f\"[{','.join(list(map(lambda x: x['name'], props['Source']['multi_select'])))}]\"\n",
    "\n",
    "            data.append(Entry(name, height, imageUrl, categories, sources))\n",
    "\n",
    "        if json['has_more']:\n",
    "            start_cursor = json['next_cursor']\n",
    "        else:\n",
    "            not_done = False\n",
    "\n",
    "print(f\"fetched {len(data)} entries!\")"
   ]
  },
  {
   "cell_type": "markdown",
   "metadata": {},
   "source": [
    "Save entries to csv"
   ]
  },
  {
   "cell_type": "code",
   "execution_count": 6,
   "metadata": {},
   "outputs": [
    {
     "name": "stdout",
     "output_type": "stream",
     "text": [
      "saved 23 entries!\n"
     ]
    }
   ],
   "source": [
    "# only save entries if they have a height and img\n",
    "save_if_have_height_and_img: bool = True\n",
    "\n",
    "\n",
    "# filter entries if needed (only get if they have a height)\n",
    "if save_if_have_height_and_img:\n",
    "    new_data = []\n",
    "    for entry in data:\n",
    "        if entry.height != None and entry.imageUrl != None:\n",
    "            new_data.append(entry)\n",
    "\n",
    "    data = new_data\n",
    "\n",
    "# save to a dated csv\n",
    "with open(f\"data/notion-data-{date.today()}.csv\", 'w', newline='', encoding='utf-8') as csvfile:\n",
    "    writer = csv.writer(csvfile, delimiter=',')\n",
    "    \n",
    "    writer.writerow(['Name', 'Height', 'Image', 'Category', 'Source'])   \n",
    "    writer.writerows([entry.toList() for entry in data])\n",
    "\n",
    "print(f\"saved {len(data)} entries!\")"
   ]
  }
 ],
 "metadata": {
  "kernelspec": {
   "display_name": ".venv",
   "language": "python",
   "name": "python3"
  },
  "language_info": {
   "codemirror_mode": {
    "name": "ipython",
    "version": 3
   },
   "file_extension": ".py",
   "mimetype": "text/x-python",
   "name": "python",
   "nbconvert_exporter": "python",
   "pygments_lexer": "ipython3",
   "version": "3.11.9"
  }
 },
 "nbformat": 4,
 "nbformat_minor": 2
}
