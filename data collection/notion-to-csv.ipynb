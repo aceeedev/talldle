{
 "cells": [
  {
   "cell_type": "markdown",
   "metadata": {},
   "source": [
    "Imports and secrets"
   ]
  },
  {
   "cell_type": "code",
   "execution_count": 1,
   "metadata": {},
   "outputs": [],
   "source": [
    "import csv\n",
    "import requests\n",
    "from dotenv import load_dotenv\n",
    "import os\n",
    "from datetime import date\n",
    "\n",
    "load_dotenv()\n",
    "NOTION_API = os.getenv('NOTION_API')\n",
    "NOTION_DATABASE_ID = os.getenv('NOTION_DATABASE_ID')"
   ]
  },
  {
   "cell_type": "markdown",
   "metadata": {},
   "source": [
    "Collect entries from Notion DB"
   ]
  },
  {
   "cell_type": "code",
   "execution_count": 2,
   "metadata": {},
   "outputs": [
    {
     "name": "stdout",
     "output_type": "stream",
     "text": [
      "[['Dua Lipa', 173, '[Music]', '[Celeb Heights]'], ['Jenna Ortega', 151, '[Acting]', '[Celeb Heights]'], ['Jenna Fischer', 165, '[Acting]', '[Celeb Heights]'], ['Dev', 171, '[Other]', '[Us]'], ['Pablo Picasso', None, '[Historical]', '[]'], ['Fidel Castro', 185, '[Historical]', '[Celeb Heights]'], ['Nelson Mandela', 184, '[Historical]', '[Celeb Heights]'], ['Genghis Khan', None, '[Historical]', '[]'], ['Hayao Miyazaki', None, '[Writers]', '[]'], ['Che Guevara', None, '[Historical]', '[]'], ['Jimi Hendrix', 178, '[Music]', '[Celeb Heights]'], ['Marilyn Monroe', 166, '[Acting]', '[Celeb Heights]'], ['Aristotle', None, '[Historical]', '[]'], ['Marco Polo', None, '[Historical]', '[]'], ['Harry Styles', 178, '[Music]', '[Celeb Heights]'], ['Margot Robbie', 166, '[Acting]', '[Celeb Heights]'], ['Jennifer Lawrence', 171, '[Acting]', '[Celeb Heights]'], ['Taylor Swift', 176, '[Music]', '[Celeb Heights]'], ['Madonna', 163, '[Music]', '[Celeb Heights]'], ['Michael Phelps', 189, '[Sports]', '[Celeb Heights]'], ['Usain Bolt', 195, '[Sports]', '[Celeb Heights]'], ['Kevin Durant', 207, '[Sports]', '[Celeb Heights]'], ['Roger Federer', 185, '[Sports]', '[Celeb Heights]'], ['Lionel Messi', 169, '[Sports]', '[Celeb Heights]'], ['Cristiano Ronaldo', 185, '[Sports]', '[Celeb Heights]'], ['Leonardo da Vinci', 175.26, '[Scientists,Historical]', '[Google]'], ['Neil deGrasse Tyson', 188, '[Scientists,Influencers]', '[Celeb Heights]'], ['Stephen Hawking', None, '[Scientists]', '[]'], ['Charles Darwin', None, '[Historical,Scientists]', '[]'], ['Isaac Newton', None, '[Historical,Scientists]', '[]'], ['Stephen King', 192, '[Writers]', '[Celeb Heights]'], ['Thomas Jefferson', None, '[Presidents,Historical]', '[]'], ['Serena Williams', 175, '[Sports]', '[Celeb Heights]'], ['Jackie Robinson', None, '[Sports]', '[]'], ['Miley Cyrus', 164, '[Music]', '[Celeb Heights]'], ['Zendaya', 174, '[Acting]', '[Celeb Heights]'], ['Tom Holland', 169, '[Acting]', '[Celeb Heights]'], ['Chris Pratt', 187, '[Acting]', '[Celeb Heights]'], ['John Cena', 184, '[Acting,Sports]', '[Celeb Heights]'], ['Bill Nye', 182.88, '[Scientists,Comedy,Influencers]', '[Google]'], ['Billie Eilish', 160, '[Music]', '[Celeb Heights]'], ['Warren Buffett', None, '[Wealth]', '[]'], ['Steve Carell', 175, '[Acting,Comedy]', '[Celeb Heights]'], ['Emma Watson', 164, '[Acting]', '[Celeb Heights]'], ['Conan O’Brien', 193, '[Acting,Comedy]', '[Celeb Heights]'], ['Ryan Reynolds', 188, '[Acting]', '[Celeb Heights]'], ['Nicki Minaj', 157, '[Music]', '[Celeb Heights]'], ['Tom Brady', 194, '[Sports]', '[Celeb Heights]'], ['Howie Mandel', 176, '[Acting,Comedy]', '[Celeb Heights]'], ['Ariana Grande', 154, '[Music,Acting]', '[Celeb Heights]'], ['Emma Stone', 168, '[Acting]', '[Celeb Heights]'], ['Hugh Grant', 180, '[Acting]', '[Celeb Heights]'], ['Ryan Gosling', 184, '[Acting]', '[Celeb Heights]'], ['Jack Black', 168, '[Music,Influencers,Acting]', '[Celeb Heights]'], ['Usher', None, '[Music]', '[]'], ['Will Ferrell', 191, '[Acting,Comedy]', '[Celeb Heights]'], ['Larry King', None, '[Acting]', '[]'], ['Bruno Mars', 163, '[Music]', '[Celeb Heights]'], ['Ozzy Osbourne', 177, '[Music]', '[Celeb Heights]'], ['Ben Stiller', 168, '[Acting,Comedy]', '[Celeb Heights]'], ['Mr. T', None, '[Acting]', '[]'], ['Gordon Ramsay', 185, '[Acting,Influencers]', '[Celeb Heights]'], ['Shakira', 156, '[Music]', '[Celeb Heights]'], ['Ice Cube', 173, '[Acting,Music]', '[Celeb Heights]'], ['George W. Bush', 180, '[Presidents]', '[Celeb Heights]'], ['Stevie Wonder', 183, '[Music]', '[Celeb Heights]'], ['Bernie Sanders', 183, '[Politics]', '[Celeb Heights]'], ['Jimmy Kimmel', 181, '[Acting,Comedy]', '[Celeb Heights]'], ['Vladimir Putin', 169, '[Politics]', '[Celeb Heights]'], ['Chris Rock', 178, '[Acting,Comedy]', '[Celeb Heights]'], ['Mark Zuckerberg', 171, '[Tech,Wealth]', '[Celeb Heights]'], ['Jimmy Fallon', 182, '[Acting,Comedy]', '[Celeb Heights]'], ['Tim Allen', 179, '[Acting]', '[Celeb Heights]'], ['Keanu Reeves', 185, '[Acting]', '[Celeb Heights]'], ['Danny DeVito', 147, '[Acting,Comedy]', '[Celeb Heights]'], ['Whoopi Goldberg', 163, '[Acting,Comedy]', '[Celeb Heights]'], ['Alec Baldwin', 182, '[Acting]', '[Celeb Heights]'], ['Pope Francis I', 175, '[Politics]', '[Celeb Heights]'], ['Justin Timberlake', 182, '[Music]', '[Celeb Heights]'], ['Jackie Chan', 174, '[Acting,Sports]', '[Celeb Heights]'], ['Jim Carrey', 187, '[Acting,Comedy]', '[Celeb Heights]'], ['Morgan Freeman', 189, '[Acting]', '[Celeb Heights]'], ['Adam Sandler', 177, '[Acting,Comedy]', '[Celeb Heights]'], ['Hillary Clinton', 166, '[Politics]', '[Celeb Heights]'], ['Bill Gates', 177, '[Wealth,Tech]', '[Celeb Heights]'], ['Michelle Obama', 180, '[Politics]', '[Celeb Heights]'], ['Will Smith', 187, '[Acting]', '[Celeb Heights]'], ['Jacksepticeye', None, '[Influencers]', '[]'], ['Shane Dawson', 178, '[Influencers]', '[Celeb Heights]'], ['Logan Paul', 187, '[Influencers]', '[Celeb Heights]'], ['Jake Paul', 180, '[Influencers]', '[Celeb Heights]'], ['Lele Pons', 166, '[Influencers]', '[Celeb Heights]'], ['Jo Jo Swia', None, '[Influencers]', '[]'], ['James Charles', 174, '[Influencers]', '[Celeb Heights]'], ['Dixie D’Amelio', None, '[Influencers]', '[]'], ['Bella Poarch', 151, '[Influencers]', '[Celeb Heights]'], ['Addison Rae', 160, '[Influencers]', '[Celeb Heights]'], ['Charli D’Amelio', 160, '[Influencers]', '[Celeb Heights]'], ['Markiplier', None, '[Influencers]', '[]'], ['Mr. Beast', None, '[Influencers]', '[]'], ['Pewdiepie', None, '[Influencers]', '[]'], ['Selena Gomez', 164, '[Music,Acting]', '[Celeb Heights]'], ['Sal Khan', None, '[Influencers]', '[]'], ['Tim Cook', None, '[Tech]', '[]'], ['Jeff Bezos', 173, '[Tech,Wealth]', '[Celeb Heights]'], ['Elon Musk', 187, '[Wealth,Tech]', '[Celeb Heights]'], ['Prince', 157, '[Music]', '[Celeb Heights]'], ['Arnold Schwarzenegger', 187, '[Acting,Politics,Sports]', '[Celeb Heights]'], ['Mike Tyson', 178, '[Sports]', '[Celeb Heights]'], ['Bill Cosby', 183, '[Canceled,Comedy]', '[Celeb Heights]'], ['Kanye West', 173, '[Music]', '[Celeb Heights]'], ['Kylie Jenner', 168, '[Influencers]', '[Celeb Heights]'], ['Ed Sheeran', 172, '[Music]', '[Celeb Heights]'], ['Dwayne Johnson', 191, '[Acting,Sports,Music]', '[Celeb Heights]'], ['Drake', None, '[Music]', '[]'], ['Adele', None, '[Music]', '[]'], ['Kevin Hart', 159, '[Acting,Comedy]', '[Celeb Heights]'], ['Robert Downey Jr.', 172, '[Acting]', '[Celeb Heights]'], ['Dr. Dre', None, '[Music]', '[]'], ['Ellen DeGeneres', 170, '[Acting,Comedy]', '[Celeb Heights]'], ['Katy Perry', 170, '[Music]', '[Celeb Heights]'], ['Kim Kardashian', 157, '[Influencers,Wealth]', '[Celeb Heights]'], ['LeBron James', 202, '[Sports]', '[Celeb Heights]'], ['Simon Cowell', 173, '[Acting]', '[Celeb Heights]'], ['Justin Bieber', 171, '[Music]', '[Celeb Heights]'], ['Lady Gaga', 156, '[Music]', '[Celeb Heights]'], ['Kobe Bryant', 195, '[Sports]', '[Celeb Heights]'], ['Beyoncé', 168, '[Music]', '[Celeb Heights]'], ['Jay-Z', 187, '[Music]', '[Celeb Heights]'], ['Brad Pitt', 180, '[Acting]', '[Celeb Heights]'], ['Dan Brown', None, '[Writers]', '[]'], ['50 Cent', 182, '[Music]', '[Celeb Heights]'], ['Elton John', 171, '[Music]', '[Celeb Heights]'], ['Shaquille O’Neal', 214, '[Sports,Influencers]', '[Celeb Heights]'], ['Johnny Depp', 175, '[Acting]', '[Celeb Heights]'], ['J.K. Rowling', 163, '[Writers]', '[Celeb Heights]'], ['Ben Affleck', 189, '[Acting]', '[Celeb Heights]'], ['Jennifer Lopez', 164, '[Music]', '[Celeb Heights]'], ['Jennifer Aniston', 164, '[Acting]', '[Celeb Heights]'], ['Mariah Carey', 170, '[Music]', '[Celeb Heights]'], ['Mel Gibson', 177, '[Acting]', '[Celeb Heights]'], ['Britney Spears', 163, '[Music]', '[Celeb Heights]'], ['Tom Cruise', 172, '[Acting]', '[Celeb Heights]'], ['Tiger Woods', 183, '[Sports]', '[Celeb Heights]'], ['Tom Hanks', 183, '[Acting]', '[Celeb Heights]'], ['Steven Spielberg', 171, '[Acting]', '[Celeb Heights]'], ['Jerry Seinfeld', None, '[Acting]', '[]'], ['Leonardo DiCaprio', 181, '[Acting]', '[Celeb Heights]'], ['Oprah Winfrey', 168, '[Influencers]', '[Celeb Heights]'], ['Joe Biden', 184, '[Presidents]', '[Celeb Heights]'], ['Martin Luther King Jr.', 169, '[Influencers,Historical,Writers]', '[Celeb Heights]'], ['Albert Einstein', 171, '[Historical,Scientists]', '[Celeb Heights]'], ['John D. Rockefeller', None, '[Historical,Wealth]', '[]'], ['Julius Caesar', None, '[Historical]', '[]'], ['Andrew Carnegie', None, '[Historical,Wealth]', '[]'], ['Rihanna', 173, '[Music]', '[Celeb Heights]'], ['Kendrick Lamar', 164, '[Music]', '[Celeb Heights]'], ['Greta Thunberg', 149, '[Influencers]', '[Celeb Heights]'], ['Barack Obama', 185, '[Presidents]', '[Celeb Heights]'], ['Amelia Earhart', None, '[Historical]', '[]'], ['Frederick Douglass', None, '[Historical,Writers]', '[]'], ['Taylor Swift', 176, '[Music]', '[Celeb Heights]'], ['Bruce Lee', 171, '[Acting]', '[Celeb Heights]'], ['Michael Jordan', 195, '[Sports]', '[Celeb Heights]'], ['Babe Ruth', 187, '[Sports]', '[Celeb Heights]'], ['Dolly the Sheep', None, '[Other]', '[]'], ['Kim Jong-un', 169, '[Politics]', '[Celeb Heights]'], ['Richard Nixon', 179, '[Presidents]', '[Celeb Heights]'], ['Saddam Hussein', 184, '[Historical,Politics]', '[Celeb Heights]'], ['Al Capone', None, '[Historical,Wealth]', '[]'], ['William Shakespeare', None, '[Writers,Acting,Historical]', '[]'], ['Michael Jackson', 175, '[Music]', '[Celeb Heights]'], ['Elvis Presley', 182, '[Music]', '[Celeb Heights]'], ['Franklin D. Roosevelt', 184, '[Presidents]', '[Celeb Heights]'], ['Galileo Galilei', None, '[Historical,Scientists]', '[]'], ['Eminem', 172, '[Music]', '[Celeb Heights]'], ['John Lennon', 178, '[Music]', '[Celeb Heights]'], ['Abraham Lincoln', None, '[Presidents,Historical]', '[]'], ['Dwight D. Eisenhower', None, '[Presidents]', '[]'], ['Thomas Edison', None, '[Historical]', '[]'], ['John F. Kennedy', 182, '[Presidents]', '[Celeb Heights]'], ['Donald Trump', 188, '[Presidents]', '[Celeb Heights]'], ['Christopher Columbus', None, '[Historical]', '[]'], ['Queen Elizabeth II', 162, '[Historical,Politics]', '[Celeb Heights]'], ['Steve Jobs', 183, '[Tech,Wealth]', '[Celeb Heights]'], ['Joseph Stalin', 168, '[Historical,Politics]', '[Celeb Heights]'], ['Mahatma Gandhi', 163, '[Historical]', '[Celeb Heights]'], ['George Washington', None, '[Presidents,Historical]', '[]'], ['Henry VIII', None, '[Historical]', '[]'], ['Napoléon Bonaparte', None, '[Historical]', '[]']]\n"
     ]
    }
   ],
   "source": [
    "data = []\n",
    "\n",
    "headers = {\n",
    "    'Authorization': f\"Bearer {NOTION_API}\",\n",
    "    'Content-Type': 'application/json',\n",
    "    'Notion-Version': '2022-06-28',\n",
    "}\n",
    "\n",
    "not_done = True\n",
    "start_cursor = ''\n",
    "while (not_done):\n",
    "    body = {}\n",
    "    if start_cursor != '':\n",
    "        body = {\n",
    "            'start_cursor': start_cursor\n",
    "        }\n",
    "\n",
    "    response = requests.post(f\"https://api.notion.com/v1/databases/{NOTION_DATABASE_ID}/query\", headers=headers, json=body)\n",
    "    if response.status_code != 404:\n",
    "        json = response.json()\n",
    "\n",
    "        for row in json['results']:\n",
    "            props = row['properties']\n",
    "            name = props['Name']['title'][0]['plain_text']\n",
    "            height = props['Height (cm)']['number']\n",
    "            categories = f\"[{','.join(list(map(lambda x: x['name'], props['Tags']['multi_select'])))}]\"\n",
    "            sources = f\"[{','.join(list(map(lambda x: x['name'], props['Source']['multi_select'])))}]\"\n",
    "\n",
    "            data.append([name, height, categories, sources])\n",
    "\n",
    "        if json['has_more']:\n",
    "            start_cursor = json['next_cursor']\n",
    "        else:\n",
    "            not_done = False\n",
    "\n",
    "print(data)"
   ]
  },
  {
   "cell_type": "markdown",
   "metadata": {},
   "source": [
    "Save entries to csv"
   ]
  },
  {
   "cell_type": "code",
   "execution_count": 3,
   "metadata": {},
   "outputs": [],
   "source": [
    "# only save entries if they have a height\n",
    "save_if_have_height: bool = True\n",
    "\n",
    "\n",
    "# filter entries if needed (only get if they have a height)\n",
    "if save_if_have_height:\n",
    "    new_data = []\n",
    "    for entry in data:\n",
    "        if entry[1] != None:\n",
    "            new_data.append(entry)\n",
    "\n",
    "    data = new_data\n",
    "\n",
    "# save to a dated csv\n",
    "with open(f\"data/notion-data-{date.today()}.csv\", 'w', newline='', encoding='utf-8') as csvfile:\n",
    "    writer = csv.writer(csvfile, delimiter=',')\n",
    "    \n",
    "    writer.writerow(['Name', 'Height', 'Category', 'Source'])   \n",
    "    writer.writerows(data)"
   ]
  }
 ],
 "metadata": {
  "kernelspec": {
   "display_name": "Python 3",
   "language": "python",
   "name": "python3"
  },
  "language_info": {
   "codemirror_mode": {
    "name": "ipython",
    "version": 3
   },
   "file_extension": ".py",
   "mimetype": "text/x-python",
   "name": "python",
   "nbconvert_exporter": "python",
   "pygments_lexer": "ipython3",
   "version": "3.11.9"
  }
 },
 "nbformat": 4,
 "nbformat_minor": 2
}
