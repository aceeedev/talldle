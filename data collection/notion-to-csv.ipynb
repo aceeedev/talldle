{
 "cells": [
  {
   "cell_type": "markdown",
   "metadata": {},
   "source": [
    "Imports and secrets"
   ]
  },
  {
   "cell_type": "code",
   "execution_count": 7,
   "metadata": {},
   "outputs": [],
   "source": [
    "import csv\n",
    "import requests\n",
    "from dotenv import load_dotenv\n",
    "import os\n",
    "from datetime import date\n",
    "\n",
    "load_dotenv()\n",
    "NOTION_API = os.getenv('NOTION_API')\n",
    "NOTION_DATABASE_ID = os.getenv('NOTION_DATABASE_ID')"
   ]
  },
  {
   "cell_type": "markdown",
   "metadata": {},
   "source": [
    "Collect entries from Notion DB"
   ]
  },
  {
   "cell_type": "code",
   "execution_count": 8,
   "metadata": {},
   "outputs": [],
   "source": [
    "data = []\n",
    "\n",
    "headers = {\n",
    "    'Authorization': f\"Bearer {NOTION_API}\",\n",
    "    'Content-Type': 'application/json',\n",
    "    'Notion-Version': '2022-06-28',\n",
    "}\n",
    "\n",
    "not_done = True\n",
    "start_cursor = ''\n",
    "while (not_done):\n",
    "    body = {}\n",
    "    if start_cursor != '':\n",
    "        body = {\n",
    "            'start_cursor': start_cursor\n",
    "        }\n",
    "\n",
    "    response = requests.post(f\"https://api.notion.com/v1/databases/{NOTION_DATABASE_ID}/query\", headers=headers, json=body)\n",
    "    if response.status_code != 404:\n",
    "        json = response.json()\n",
    "\n",
    "        for row in json['results']:\n",
    "            props = row['properties']\n",
    "            name = props['Name']['title'][0]['plain_text']\n",
    "            height = props['Height (cm)']['number']\n",
    "            categories = f\"[{','.join(list(map(lambda x: x['name'], props['Tags']['multi_select'])))}]\"\n",
    "            sources = f\"[{','.join(list(map(lambda x: x['name'], props['Source']['multi_select'])))}]\"\n",
    "\n",
    "            data.append([name, height, categories, sources])\n",
    "\n",
    "        if json['has_more']:\n",
    "            start_cursor = json['next_cursor']\n",
    "        else:\n",
    "            not_done = False\n"
   ]
  },
  {
   "cell_type": "markdown",
   "metadata": {},
   "source": [
    "Save entries to csv"
   ]
  },
  {
   "cell_type": "code",
   "execution_count": 9,
   "metadata": {},
   "outputs": [],
   "source": [
    "with open(f\"data/notion-data-{date.today()}.csv\", 'w', newline='', encoding='utf-8') as csvfile:\n",
    "    writer = csv.writer(csvfile, delimiter=',')\n",
    "    \n",
    "    writer.writerow(['Name', 'Height', 'Category', 'Source'])   \n",
    "    writer.writerows(data)"
   ]
  }
 ],
 "metadata": {
  "kernelspec": {
   "display_name": "Python 3",
   "language": "python",
   "name": "python3"
  },
  "language_info": {
   "codemirror_mode": {
    "name": "ipython",
    "version": 3
   },
   "file_extension": ".py",
   "mimetype": "text/x-python",
   "name": "python",
   "nbconvert_exporter": "python",
   "pygments_lexer": "ipython3",
   "version": "3.11.8"
  }
 },
 "nbformat": 4,
 "nbformat_minor": 2
}
